{
 "cells": [
  {
   "cell_type": "code",
   "execution_count": 4,
   "metadata": {
    "ExecuteTime": {
     "end_time": "2018-02-17T22:36:48.112009Z",
     "start_time": "2018-02-17T22:36:46.511089Z"
    },
    "collapsed": true
   },
   "outputs": [],
   "source": [
    "import pandas as pd\n",
    "from datetime import datetime\n",
    "import pickle\n"
   ]
  },
  {
   "cell_type": "markdown",
   "metadata": {},
   "source": [
    "### Same logic as Calculating_Quater_Data.ipynb\n",
    "* Calculating Last 4 quarter info for bating operations performed by NYC\n",
    "* See associated markdown for info"
   ]
  },
  {
   "cell_type": "code",
   "execution_count": 5,
   "metadata": {
    "ExecuteTime": {
     "end_time": "2018-02-17T22:36:48.121315Z",
     "start_time": "2018-02-17T22:36:48.115238Z"
    }
   },
   "outputs": [],
   "source": [
    "pd.set_option('display.max_columns', 500)\n",
    "pd.set_option('display.max_rows', 500)"
   ]
  },
  {
   "cell_type": "code",
   "execution_count": 6,
   "metadata": {
    "ExecuteTime": {
     "end_time": "2018-02-17T22:37:07.531118Z",
     "start_time": "2018-02-17T22:36:48.124865Z"
    }
   },
   "outputs": [],
   "source": [
    "df = pd.read_csv(\"Rodent_Inspection.csv\")"
   ]
  },
  {
   "cell_type": "code",
   "execution_count": 7,
   "metadata": {
    "ExecuteTime": {
     "end_time": "2018-02-17T22:37:14.131780Z",
     "start_time": "2018-02-17T22:37:07.539093Z"
    }
   },
   "outputs": [],
   "source": [
    "df = df[df.INSPECTION_TYPE == 'BAIT']\n",
    "df = df[df['RESULT'] == 'Bait applied']\n",
    "df = df[df.BOROUGH.isin(['Manhattan','Bronx'])]\n",
    "df = df[df.HOUSE_NUMBER == df.HOUSE_NUMBER]\n",
    "df['ADDRESS'] = df.apply(lambda x: str(x['HOUSE_NUMBER']).strip() + \" \" + str(x['STREET_NAME']).strip(), axis=1)"
   ]
  },
  {
   "cell_type": "code",
   "execution_count": 8,
   "metadata": {
    "ExecuteTime": {
     "end_time": "2018-02-17T22:37:14.144604Z",
     "start_time": "2018-02-17T22:37:14.135127Z"
    },
    "collapsed": true
   },
   "outputs": [],
   "source": [
    "def convert_ym_2_yq(ym):\n",
    "    l = ym.split()\n",
    "    if int(l[1]) <=3 and int(l[1]) >=1:\n",
    "        return l[0] + \" Q1\"\n",
    "    if int(l[1]) <=6 and int(l[1]) >=4:\n",
    "        return l[0] + \" Q2\"\n",
    "    if int(l[1]) <=9 and int(l[1]) >=7:\n",
    "        return l[0] + \" Q3\"\n",
    "    if int(l[1]) <=12 and int(l[1]) >=10:\n",
    "        return l[0] + \" Q4\""
   ]
  },
  {
   "cell_type": "code",
   "execution_count": 9,
   "metadata": {
    "ExecuteTime": {
     "end_time": "2018-02-17T22:38:34.540466Z",
     "start_time": "2018-02-17T22:37:14.146877Z"
    },
    "collapsed": true
   },
   "outputs": [],
   "source": [
    "df['INSPECTION_DATE_TS']= df.apply(lambda x: datetime.strptime(x['INSPECTION_DATE'], '%m/%d/%Y %H:%M:%S %p'), axis=1)\n",
    "df['INSPECTION_MONTH'] = df.apply(lambda x: x['INSPECTION_DATE_TS'].month, axis=1)\n",
    "df['INSPECTION_YEAR'] = df.apply(lambda x: x['INSPECTION_DATE_TS'].year, axis=1)\n",
    "df['INSPECTION_YEAR_MONTH'] = df.apply(lambda x: str(x['INSPECTION_DATE_TS'].year) + \" \" + str(x['INSPECTION_DATE_TS'].month), axis=1)\n",
    "df['INSPECTION_YEAR_Q'] = df.apply(lambda x: (convert_ym_2_yq(x['INSPECTION_YEAR_MONTH'])), axis=1)"
   ]
  },
  {
   "cell_type": "code",
   "execution_count": 10,
   "metadata": {
    "ExecuteTime": {
     "end_time": "2018-02-17T22:38:34.693005Z",
     "start_time": "2018-02-17T22:38:34.543898Z"
    },
    "collapsed": true
   },
   "outputs": [],
   "source": [
    "col_to_keep = ['BLOCK', 'INSPECTION_YEAR', 'INSPECTION_YEAR_Q' ]\n",
    "\n",
    "df2 = df[col_to_keep].copy()\n",
    "df2 = df2[df2['INSPECTION_YEAR'] > 2009]\n",
    "df2 = df2[df2['INSPECTION_YEAR'] < 2018]\n",
    "del df2['INSPECTION_YEAR']\n",
    "df2['RESULT'] = 1\n",
    "df2 = df2[df2.BLOCK > 0]"
   ]
  },
  {
   "cell_type": "code",
   "execution_count": 11,
   "metadata": {
    "ExecuteTime": {
     "end_time": "2018-02-17T22:38:34.770021Z",
     "start_time": "2018-02-17T22:38:34.695195Z"
    },
    "collapsed": true
   },
   "outputs": [],
   "source": [
    "df3 = df2.groupby(['BLOCK','INSPECTION_YEAR_Q'], as_index=False).agg({'RESULT':['sum']})\n",
    "a = df3.columns.get_level_values(0).tolist()\n",
    "b = df3.columns.get_level_values(1).tolist()\n",
    "df3.columns = [m+n for m,n in zip(a,b)]\n"
   ]
  },
  {
   "cell_type": "code",
   "execution_count": 12,
   "metadata": {
    "ExecuteTime": {
     "end_time": "2018-02-17T22:38:34.797695Z",
     "start_time": "2018-02-17T22:38:34.772833Z"
    },
    "collapsed": true
   },
   "outputs": [],
   "source": [
    "df_quarters = df2.groupby('INSPECTION_YEAR_Q', as_index=False)['RESULT'].sum()\n",
    "del df_quarters['RESULT']"
   ]
  },
  {
   "cell_type": "code",
   "execution_count": 13,
   "metadata": {
    "ExecuteTime": {
     "end_time": "2018-02-17T22:38:34.818289Z",
     "start_time": "2018-02-17T22:38:34.800260Z"
    },
    "collapsed": true
   },
   "outputs": [],
   "source": [
    "df_blocks = df2.groupby('BLOCK', as_index=False)['RESULT'].sum()\n",
    "del df_blocks['RESULT']"
   ]
  },
  {
   "cell_type": "code",
   "execution_count": 14,
   "metadata": {
    "ExecuteTime": {
     "end_time": "2018-02-17T22:38:34.853047Z",
     "start_time": "2018-02-17T22:38:34.820772Z"
    },
    "collapsed": true
   },
   "outputs": [],
   "source": [
    "df_all = df_quarters.assign(foo=1).merge(df_blocks.assign(foo=1)).drop('foo', 1)"
   ]
  },
  {
   "cell_type": "code",
   "execution_count": 15,
   "metadata": {
    "ExecuteTime": {
     "end_time": "2018-02-17T22:38:34.904718Z",
     "start_time": "2018-02-17T22:38:34.855723Z"
    },
    "collapsed": true
   },
   "outputs": [],
   "source": [
    "df_combos = df_all.merge(df3, how='left', on=['INSPECTION_YEAR_Q','BLOCK']).copy()"
   ]
  },
  {
   "cell_type": "code",
   "execution_count": 16,
   "metadata": {
    "ExecuteTime": {
     "end_time": "2018-02-17T22:38:34.972967Z",
     "start_time": "2018-02-17T22:38:34.908048Z"
    },
    "collapsed": true
   },
   "outputs": [],
   "source": [
    "df_combos.sort_values(['BLOCK','INSPECTION_YEAR_Q'], inplace=True)\n",
    "df_combos.reset_index(inplace=True)\n",
    "del df_combos['index']\n",
    "df_combos.fillna(0, inplace=True)"
   ]
  },
  {
   "cell_type": "code",
   "execution_count": 17,
   "metadata": {
    "ExecuteTime": {
     "end_time": "2018-02-17T22:38:35.009979Z",
     "start_time": "2018-02-17T22:38:34.976021Z"
    },
    "collapsed": true
   },
   "outputs": [],
   "source": [
    "with open('df_bait.pkl', 'wb') as picklefile:\n",
    "    pickle.dump(df_combos, picklefile)"
   ]
  },
  {
   "cell_type": "code",
   "execution_count": 18,
   "metadata": {
    "ExecuteTime": {
     "end_time": "2018-02-17T22:38:35.016619Z",
     "start_time": "2018-02-17T22:38:35.012302Z"
    },
    "collapsed": true
   },
   "outputs": [],
   "source": [
    "###########SPLIT#############"
   ]
  },
  {
   "cell_type": "code",
   "execution_count": 19,
   "metadata": {
    "ExecuteTime": {
     "end_time": "2018-02-17T22:38:35.036965Z",
     "start_time": "2018-02-17T22:38:35.020454Z"
    },
    "collapsed": true
   },
   "outputs": [],
   "source": [
    "with open(\"df_bait.pkl\", 'rb') as picklefile: \n",
    "    df_combos = pickle.load(picklefile)"
   ]
  },
  {
   "cell_type": "code",
   "execution_count": 20,
   "metadata": {
    "ExecuteTime": {
     "end_time": "2018-02-17T22:38:35.131254Z",
     "start_time": "2018-02-17T22:38:35.039880Z"
    },
    "collapsed": true
   },
   "outputs": [],
   "source": [
    "for i in range(1,5):\n",
    "    df_combos['RESULT_S' + str(i)] = df_combos.groupby('BLOCK')['RESULTsum'].shift(i)\n",
    "df_combos.dropna(inplace=True)"
   ]
  },
  {
   "cell_type": "code",
   "execution_count": 21,
   "metadata": {
    "ExecuteTime": {
     "end_time": "2018-02-17T22:38:41.024267Z",
     "start_time": "2018-02-17T22:38:35.133619Z"
    },
    "collapsed": true
   },
   "outputs": [],
   "source": [
    "df_combos['last_4_bait'] = df_combos.apply(lambda x: x['RESULT_S1'] + x['RESULT_S2'] + \n",
    "                                                    x['RESULT_S3'] + x['RESULT_S4'] ,\n",
    "                                          axis = 1)\n",
    "del df_combos['RESULT_S1']\n",
    "del df_combos['RESULT_S2']\n",
    "del df_combos['RESULT_S3']\n",
    "del df_combos['RESULT_S4']"
   ]
  },
  {
   "cell_type": "code",
   "execution_count": 22,
   "metadata": {
    "ExecuteTime": {
     "end_time": "2018-02-17T22:38:41.053378Z",
     "start_time": "2018-02-17T22:38:41.026882Z"
    },
    "collapsed": true
   },
   "outputs": [],
   "source": [
    "df_combos = df_combos.copy()\n",
    "df_l4 = df_combos.copy()\n",
    "del df_l4['RESULTsum']\n",
    "\n",
    "with open('df_bait4.pkl', 'wb') as picklefile:\n",
    "    pickle.dump(df_l4, picklefile)"
   ]
  }
 ],
 "metadata": {
  "kernelspec": {
   "display_name": "Python 3",
   "language": "python",
   "name": "python3"
  },
  "language_info": {
   "codemirror_mode": {
    "name": "ipython",
    "version": 3
   },
   "file_extension": ".py",
   "mimetype": "text/x-python",
   "name": "python",
   "nbconvert_exporter": "python",
   "pygments_lexer": "ipython3",
   "version": "3.6.4"
  }
 },
 "nbformat": 4,
 "nbformat_minor": 2
}
