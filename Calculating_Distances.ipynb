{
 "cells": [
  {
   "cell_type": "code",
   "execution_count": 1,
   "metadata": {
    "ExecuteTime": {
     "end_time": "2018-02-18T14:04:29.619985Z",
     "start_time": "2018-02-18T14:04:27.463828Z"
    },
    "collapsed": true,
    "run_control": {
     "marked": false
    }
   },
   "outputs": [],
   "source": [
    "import pandas as pd\n",
    "import pickle\n"
   ]
  },
  {
   "cell_type": "markdown",
   "metadata": {},
   "source": [
    "# Calculating Nearest Neighbor blocks & associated stats"
   ]
  },
  {
   "cell_type": "markdown",
   "metadata": {},
   "source": [
    "### Address data from .ipnyb\n",
    "* import data, group block and average x,y coordinates"
   ]
  },
  {
   "cell_type": "code",
   "execution_count": 2,
   "metadata": {
    "ExecuteTime": {
     "end_time": "2018-02-18T14:04:30.683582Z",
     "start_time": "2018-02-18T14:04:29.622503Z"
    },
    "collapsed": true,
    "run_control": {
     "marked": false
    }
   },
   "outputs": [],
   "source": [
    "with open(\"df_address.pkl\", 'rb') as picklefile: \n",
    "    df4 = pickle.load(picklefile)"
   ]
  },
  {
   "cell_type": "code",
   "execution_count": 3,
   "metadata": {
    "ExecuteTime": {
     "end_time": "2018-02-18T14:04:30.737380Z",
     "start_time": "2018-02-18T14:04:30.687598Z"
    },
    "collapsed": true
   },
   "outputs": [],
   "source": [
    "df = df4[['Block','XCoord','YCoord']].copy()\n",
    "df['x'] = 1"
   ]
  },
  {
   "cell_type": "code",
   "execution_count": 4,
   "metadata": {
    "ExecuteTime": {
     "end_time": "2018-02-18T14:04:31.017841Z",
     "start_time": "2018-02-18T14:04:30.740000Z"
    },
    "collapsed": true
   },
   "outputs": [],
   "source": [
    "df = df.groupby(['Block','XCoord','YCoord'], as_index=False).x.count()\n",
    "del df['x']"
   ]
  },
  {
   "cell_type": "code",
   "execution_count": 5,
   "metadata": {
    "ExecuteTime": {
     "end_time": "2018-02-18T14:04:31.075208Z",
     "start_time": "2018-02-18T14:04:31.026078Z"
    },
    "collapsed": true
   },
   "outputs": [],
   "source": [
    "df = df.groupby('Block')['XCoord','YCoord'].mean()"
   ]
  },
  {
   "cell_type": "markdown",
   "metadata": {},
   "source": [
    "###  Calculating Neareast Neighbors\n",
    "* create distance matrix\n",
    "* iterate through nearest neighbors (smallest = number of neighbors + 1)\n",
    "* output dataframe (df_closest) with closest neighbors of each block (in order!)"
   ]
  },
  {
   "cell_type": "code",
   "execution_count": 6,
   "metadata": {
    "ExecuteTime": {
     "end_time": "2018-02-18T14:04:32.588138Z",
     "start_time": "2018-02-18T14:04:31.084658Z"
    },
    "collapsed": true
   },
   "outputs": [],
   "source": [
    "from scipy.spatial.distance import pdist, squareform\n",
    "\n",
    "distances = pdist(df.values, metric='euclidean')\n",
    "dist_matrix = squareform(distances)"
   ]
  },
  {
   "cell_type": "code",
   "execution_count": 7,
   "metadata": {
    "ExecuteTime": {
     "end_time": "2018-02-18T14:04:32.604209Z",
     "start_time": "2018-02-18T14:04:32.591750Z"
    },
    "collapsed": true
   },
   "outputs": [],
   "source": [
    "indicies = ['block' + str(i) for i in df.index.tolist()]"
   ]
  },
  {
   "cell_type": "code",
   "execution_count": 8,
   "metadata": {
    "ExecuteTime": {
     "end_time": "2018-02-18T14:04:32.618480Z",
     "start_time": "2018-02-18T14:04:32.607950Z"
    },
    "collapsed": true
   },
   "outputs": [],
   "source": [
    "dist_matrix = pd.DataFrame(dist_matrix, columns = indicies, index = df.index)"
   ]
  },
  {
   "cell_type": "code",
   "execution_count": 9,
   "metadata": {
    "ExecuteTime": {
     "end_time": "2018-02-18T14:05:04.361802Z",
     "start_time": "2018-02-18T14:04:32.623177Z"
    },
    "collapsed": true
   },
   "outputs": [],
   "source": [
    "smallest = 6\n",
    "\n",
    "m_len = len(dist_matrix.columns)\n",
    "for col in dist_matrix.columns[:m_len]:\n",
    "    l = dist_matrix[col].nsmallest(smallest).index\n",
    "    for i in range(len(l)):\n",
    "        col_2c = m_len + i\n",
    "        row_2c = int(col[5:])\n",
    "        dist_matrix.loc[row_2c, col_2c] = int(l[i])\n",
    "        \n",
    "k = 0\n",
    "for j in range(m_len, m_len + smallest):\n",
    "    k += 1\n",
    "    dist_matrix.rename(columns={j: 'closest_' + str(k-1)}, inplace=True)"
   ]
  },
  {
   "cell_type": "code",
   "execution_count": 10,
   "metadata": {
    "ExecuteTime": {
     "end_time": "2018-02-18T14:05:04.383129Z",
     "start_time": "2018-02-18T14:05:04.369194Z"
    },
    "collapsed": true
   },
   "outputs": [],
   "source": [
    "df_closest = dist_matrix.iloc[:,-smallest:].reset_index()"
   ]
  },
  {
   "cell_type": "markdown",
   "metadata": {},
   "source": [
    "### Pickle it for use later"
   ]
  },
  {
   "cell_type": "code",
   "execution_count": 11,
   "metadata": {
    "ExecuteTime": {
     "end_time": "2018-02-18T14:05:04.402803Z",
     "start_time": "2018-02-18T14:05:04.386036Z"
    },
    "collapsed": true
   },
   "outputs": [],
   "source": [
    "with open('df_closest.pkl', 'wb') as picklefile:\n",
    "    pickle.dump(df_closest, picklefile)"
   ]
  },
  {
   "cell_type": "markdown",
   "metadata": {},
   "source": [
    "### Get last 4 quarter information for each block \n",
    "* Combine this w/ df_closest to get the last 4 quarter information for closest neighbors\n",
    "* This is some crazy join logic - we've got to re-join it for each nearest neighbor\n",
    "* Only keep necessary columns"
   ]
  },
  {
   "cell_type": "code",
   "execution_count": 12,
   "metadata": {
    "ExecuteTime": {
     "end_time": "2018-02-18T14:05:04.435301Z",
     "start_time": "2018-02-18T14:05:04.405929Z"
    }
   },
   "outputs": [],
   "source": [
    "# comes from calculating_quarter_data.ipynb\n",
    "with open(\"df_l4.pkl\", 'rb') as picklefile: \n",
    "    df_l4 = pickle.load(picklefile)"
   ]
  },
  {
   "cell_type": "code",
   "execution_count": 13,
   "metadata": {
    "ExecuteTime": {
     "end_time": "2018-02-18T14:05:04.450769Z",
     "start_time": "2018-02-18T14:05:04.438353Z"
    },
    "collapsed": true
   },
   "outputs": [],
   "source": [
    "for i in range(1,smallest):\n",
    "    df_closest['closest_' + str(i)] = df_closest['closest_' + str(i)].astype(int)"
   ]
  },
  {
   "cell_type": "code",
   "execution_count": 14,
   "metadata": {
    "ExecuteTime": {
     "end_time": "2018-02-18T14:05:04.520787Z",
     "start_time": "2018-02-18T14:05:04.453820Z"
    },
    "collapsed": true
   },
   "outputs": [],
   "source": [
    "df9 = df_l4.merge(df_closest, left_on='BLOCK', right_on='Block')\n",
    "del df9['Block']"
   ]
  },
  {
   "cell_type": "code",
   "execution_count": 15,
   "metadata": {
    "ExecuteTime": {
     "end_time": "2018-02-18T14:05:05.714751Z",
     "start_time": "2018-02-18T14:05:04.524134Z"
    },
    "collapsed": true
   },
   "outputs": [],
   "source": [
    "for i in range(1,smallest):\n",
    "    df9 = df9.merge(df_l4, left_on=['INSPECTION_YEAR_Q','closest_' + str(i)], right_on=['INSPECTION_YEAR_Q','BLOCK'])\n",
    "    del df9['BLOCK_y']\n",
    "    df9.rename(columns={'last_4_ins_y': 'c' + str(i) + '_l4i', 'last_4_rats_y': 'c'+str(i)+'_l4r','BLOCK_x': 'BLOCK',\n",
    "                       'last_4_ins_x': 'last_4_ins','last_4_rats_x': 'last_4_rats'}, inplace=True)"
   ]
  },
  {
   "cell_type": "code",
   "execution_count": 16,
   "metadata": {
    "ExecuteTime": {
     "end_time": "2018-02-18T14:05:05.748429Z",
     "start_time": "2018-02-18T14:05:05.717730Z"
    },
    "collapsed": true
   },
   "outputs": [],
   "source": [
    "col_to_keep = ['INSPECTION_YEAR_Q', 'BLOCK', 'last_4_ins', 'last_4_rats', \n",
    "               'c1_l4i', 'c1_l4r', 'c2_l4i', 'c2_l4r', 'c3_l4i', 'c3_l4r', 'c4_l4i', 'c4_l4r', \n",
    "               'c5_l4i', 'c5_l4r']\n",
    "df9 = df9[col_to_keep]"
   ]
  },
  {
   "cell_type": "markdown",
   "metadata": {
    "collapsed": true
   },
   "source": [
    "### Pickle it for later use in modeling"
   ]
  },
  {
   "cell_type": "code",
   "execution_count": 17,
   "metadata": {
    "ExecuteTime": {
     "end_time": "2018-02-18T14:05:05.964495Z",
     "start_time": "2018-02-18T14:05:05.754330Z"
    },
    "collapsed": true
   },
   "outputs": [],
   "source": [
    "with open('last_4_data.pkl', 'wb') as picklefile:\n",
    "    pickle.dump(df9, picklefile)"
   ]
  }
 ],
 "metadata": {
  "kernelspec": {
   "display_name": "Python 3",
   "language": "python",
   "name": "python3"
  },
  "language_info": {
   "codemirror_mode": {
    "name": "ipython",
    "version": 3
   },
   "file_extension": ".py",
   "mimetype": "text/x-python",
   "name": "python",
   "nbconvert_exporter": "python",
   "pygments_lexer": "ipython3",
   "version": "3.6.4"
  }
 },
 "nbformat": 4,
 "nbformat_minor": 2
}
