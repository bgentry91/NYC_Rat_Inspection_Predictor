{
 "cells": [
  {
   "cell_type": "code",
   "execution_count": 1,
   "metadata": {
    "ExecuteTime": {
     "end_time": "2018-02-17T22:51:49.254509Z",
     "start_time": "2018-02-17T22:51:47.482699Z"
    },
    "collapsed": true,
    "run_control": {
     "marked": false
    }
   },
   "outputs": [],
   "source": [
    "import pandas as pd\n",
    "import numpy as np\n",
    "from datetime import datetime\n",
    "import pickle"
   ]
  },
  {
   "cell_type": "markdown",
   "metadata": {},
   "source": [
    "### Initial Cleaning\n",
    "* Read in Data, get Manhattan & Bronx Info\n",
    "* Only initial inspections\n",
    "* Turn house number into address\n",
    "* Datetime cleaning & grouping as necessary"
   ]
  },
  {
   "cell_type": "code",
   "execution_count": 2,
   "metadata": {
    "ExecuteTime": {
     "end_time": "2018-02-17T22:52:06.966236Z",
     "start_time": "2018-02-17T22:51:49.257091Z"
    },
    "collapsed": true
   },
   "outputs": [],
   "source": [
    "df = pd.read_csv(\"Rodent_Inspection.csv\")"
   ]
  },
  {
   "cell_type": "code",
   "execution_count": 3,
   "metadata": {
    "ExecuteTime": {
     "end_time": "2018-02-17T22:52:39.886638Z",
     "start_time": "2018-02-17T22:52:06.993073Z"
    },
    "collapsed": true
   },
   "outputs": [],
   "source": [
    "df = df[df.INSPECTION_TYPE == 'INITIAL']\n",
    "df = df[df.BOROUGH.isin(['Manhattan','Bronx'])]\n",
    "df = df[df.HOUSE_NUMBER == df.HOUSE_NUMBER]\n",
    "df['ADDRESS'] = df.apply(lambda x: str(x['HOUSE_NUMBER']).strip() + \" \" + str(x['STREET_NAME']).strip(), axis=1)"
   ]
  },
  {
   "cell_type": "code",
   "execution_count": 4,
   "metadata": {
    "ExecuteTime": {
     "end_time": "2018-02-17T22:56:41.287418Z",
     "start_time": "2018-02-17T22:52:39.891968Z"
    },
    "collapsed": true
   },
   "outputs": [],
   "source": [
    "df['INSPECTION_DATE_TS']= df.apply(lambda x: datetime.strptime(x['INSPECTION_DATE'], '%m/%d/%Y %H:%M:%S %p'), axis=1)\n",
    "df['INSPECTION_MONTH'] = df.apply(lambda x: x['INSPECTION_DATE_TS'].month, axis=1)\n",
    "df['INSPECTION_YEAR'] = df.apply(lambda x: x['INSPECTION_DATE_TS'].year, axis=1)"
   ]
  },
  {
   "cell_type": "markdown",
   "metadata": {},
   "source": [
    "### More cleanup\n",
    "* Only keep pertinent rows, only keep data from 2010-2017\n",
    "* Get one record for each address to merge with tax lot data"
   ]
  },
  {
   "cell_type": "code",
   "execution_count": 5,
   "metadata": {
    "ExecuteTime": {
     "end_time": "2018-02-17T22:56:42.632971Z",
     "start_time": "2018-02-17T22:56:41.295461Z"
    },
    "collapsed": true
   },
   "outputs": [],
   "source": [
    "col_to_keep = ['ADDRESS','INSPECTION_YEAR']\n",
    "\n",
    "df2 = df[col_to_keep].copy()\n",
    "df2 = df2[df2['INSPECTION_YEAR'] > 2009]\n",
    "df2 = df2[df2['INSPECTION_YEAR'] < 2018]\n",
    "df2 = df2.groupby('ADDRESS', as_index=False).INSPECTION_YEAR.count()\n",
    "del df2['INSPECTION_YEAR']"
   ]
  },
  {
   "cell_type": "markdown",
   "metadata": {},
   "source": [
    "### Tax Lot Data\n",
    "* Read in Bronx and Manhattan data & concat\n",
    "* Clean out record missing X Coordindates\n",
    "* Get the first iteration of each address (some duplicates exist?)"
   ]
  },
  {
   "cell_type": "code",
   "execution_count": 13,
   "metadata": {
    "ExecuteTime": {
     "end_time": "2018-02-18T14:18:36.034597Z",
     "start_time": "2018-02-18T14:06:31.827168Z"
    }
   },
   "outputs": [
    {
     "name": "stderr",
     "output_type": "stream",
     "text": [
      "/Users/bgentry/anaconda/lib/python3.6/site-packages/IPython/core/interactiveshell.py:2717: DtypeWarning: Columns (19,20,22,23,64,65,80) have mixed types. Specify dtype option on import or set low_memory=False.\n",
      "  interactivity=interactivity, compiler=compiler, result=result)\n",
      "/Users/bgentry/anaconda/lib/python3.6/site-packages/IPython/core/interactiveshell.py:2717: DtypeWarning: Columns (19,20,22,24,26) have mixed types. Specify dtype option on import or set low_memory=False.\n",
      "  interactivity=interactivity, compiler=compiler, result=result)\n"
     ]
    }
   ],
   "source": [
    "df3 = pd.read_csv('PLUTO17v1.1/BX2017V11.csv')\n",
    "df4 = pd.read_csv('PLUTO17v1.1/MN2017V11.csv')\n",
    "df5 = pd.concat([df3,df4])\n",
    "df5 = df5[df5.XCoord == df5.XCoord]\n",
    "df5 = df5.groupby('Address', as_index=False).first()\n"
   ]
  },
  {
   "cell_type": "markdown",
   "metadata": {},
   "source": [
    "### Merging Lot & Inspection Data to be used in Calculating_Distances.ipynb\n",
    "* Don't want to calculate nearest neighbors if they arent in the dataset"
   ]
  },
  {
   "cell_type": "code",
   "execution_count": 7,
   "metadata": {
    "ExecuteTime": {
     "end_time": "2018-02-17T23:09:01.344782Z",
     "start_time": "2018-02-17T23:08:58.793802Z"
    },
    "collapsed": true
   },
   "outputs": [],
   "source": [
    "df6 = df5.merge(df2, left_on = 'Address', right_on = 'ADDRESS').copy()"
   ]
  },
  {
   "cell_type": "code",
   "execution_count": 8,
   "metadata": {
    "ExecuteTime": {
     "end_time": "2018-02-17T23:09:02.123193Z",
     "start_time": "2018-02-17T23:09:01.348006Z"
    },
    "collapsed": true
   },
   "outputs": [],
   "source": [
    "import pickle\n",
    "\n",
    "with open('df_address.pkl', 'wb') as picklefile:\n",
    "    pickle.dump(df6, picklefile)"
   ]
  },
  {
   "cell_type": "markdown",
   "metadata": {},
   "source": [
    "### More initial lot data cleaning"
   ]
  },
  {
   "cell_type": "code",
   "execution_count": 14,
   "metadata": {
    "ExecuteTime": {
     "end_time": "2018-02-18T14:19:09.659140Z",
     "start_time": "2018-02-18T14:18:36.058117Z"
    },
    "collapsed": true
   },
   "outputs": [],
   "source": [
    "def convert_zoning(x):\n",
    "    if '/' in x:\n",
    "        return 'Mixed Man/Residential'\n",
    "    if x[0] == 'R':\n",
    "        return 'Residential'\n",
    "    if x[0] == 'C':\n",
    "        return 'Commericial'\n",
    "    if x[0] == 'M':\n",
    "        return 'Manufacturing'\n",
    "    if x == 'BPC':\n",
    "        return 'Battery Park City'\n",
    "    if x[:4] == 'PARK' or x[:3] == 'ZNA':\n",
    "        return x\n",
    "    if x[:2] == 'ZR':\n",
    "        return 'Special'\n",
    "df5['Zoning'] = df5.apply(lambda x: convert_zoning(str(x['ZoneDist1'])), axis=1)\n",
    "df5['Commercial_Overlay'] = df5.apply(lambda x: 1 if x['Overlay1'] == x['Overlay1'] else 0, axis=1)\n",
    "df5['Height_Limited'] = df5.apply(lambda x: 1 if x['LtdHeight'] == x['LtdHeight'] else 0, axis=1)\n",
    "df5['Landmark'] = df5.apply(lambda x: 1 if x['Landmark'] == x['Landmark'] else 0, axis=1)\n",
    "df5['HistDist'] = df5.apply(lambda x: 1 if x['HistDist'] == x['HistDist'] else 0, axis=1)\n",
    "\n",
    "df5.PFIRM15_FLAG.fillna(0, inplace=True)\n",
    "df5.Ext.fillna(0, inplace=True)\n",
    "df5.SPDist1.fillna(0, inplace=True)\n",
    "df5.OwnerType.fillna(0, inplace=True)\n",
    "df5.OwnerName.fillna(0, inplace=True)\n",
    "df5.SanitSub.fillna(0, inplace=True)\n",
    "df5.CB2010.fillna(0, inplace=True)\n",
    "df5.SanitBoro.fillna(0, inplace=True)\n",
    "df5.LandUse.fillna(999, inplace=True)\n",
    "df5 = df5[df5.XCoord == df5.XCoord]"
   ]
  },
  {
   "cell_type": "code",
   "execution_count": 15,
   "metadata": {
    "ExecuteTime": {
     "end_time": "2018-02-18T14:19:09.717732Z",
     "start_time": "2018-02-18T14:19:09.674582Z"
    },
    "collapsed": true
   },
   "outputs": [],
   "source": [
    "col_list = [\n",
    " 'Address',\n",
    " 'Block',\n",
    " 'SanitBoro',\n",
    " 'SanitDistrict',\n",
    " 'SanitSub',\n",
    " 'BldgClass',\n",
    " 'LandUse',\n",
    " 'Easements',\n",
    " 'OwnerType',\n",
    " 'LotArea',\n",
    " 'BldgArea',\n",
    " 'ComArea',\n",
    " 'ResArea',\n",
    " 'OfficeArea',\n",
    " 'RetailArea',\n",
    " 'GarageArea',\n",
    " 'StrgeArea',\n",
    " 'FactryArea',\n",
    " 'OtherArea',\n",
    " 'NumBldgs',\n",
    " 'NumFloors',\n",
    " 'UnitsRes',\n",
    " 'UnitsTotal',\n",
    " 'LotFront',\n",
    " 'LotDepth',\n",
    " 'BldgFront',\n",
    " 'BldgDepth',\n",
    " 'Ext',\n",
    " 'ProxCode',\n",
    " 'IrrLotCode',\n",
    " 'LotType',\n",
    " 'BsmtCode',\n",
    " 'AssessLand',\n",
    " 'AssessTot',\n",
    " 'ExemptLand',\n",
    " 'ExemptTot',\n",
    " 'YearBuilt',\n",
    " 'YearAlter1',\n",
    " 'YearAlter2',\n",
    " 'HistDist',\n",
    " 'Landmark',\n",
    " 'BuiltFAR',\n",
    " 'ResidFAR',\n",
    " 'CommFAR',\n",
    " 'FacilFAR',\n",
    " 'XCoord',\n",
    " 'YCoord',\n",
    " 'PFIRM15_FLAG',\n",
    " 'Zoning',\n",
    " 'Commercial_Overlay',\n",
    " 'Height_Limited']"
   ]
  },
  {
   "cell_type": "code",
   "execution_count": 16,
   "metadata": {
    "ExecuteTime": {
     "end_time": "2018-02-18T14:19:09.821133Z",
     "start_time": "2018-02-18T14:19:09.720542Z"
    },
    "collapsed": true
   },
   "outputs": [],
   "source": [
    "df5 = df5[col_list].copy()"
   ]
  },
  {
   "cell_type": "code",
   "execution_count": 19,
   "metadata": {
    "ExecuteTime": {
     "end_time": "2018-02-18T14:20:32.504503Z",
     "start_time": "2018-02-18T14:20:31.611944Z"
    },
    "collapsed": true
   },
   "outputs": [],
   "source": [
    "with open('lot_data.pkl', 'wb') as picklefile:\n",
    "    pickle.dump(df5, picklefile)"
   ]
  },
  {
   "cell_type": "code",
   "execution_count": null,
   "metadata": {
    "collapsed": true
   },
   "outputs": [],
   "source": []
  }
 ],
 "metadata": {
  "kernelspec": {
   "display_name": "Python 3",
   "language": "python",
   "name": "python3"
  },
  "language_info": {
   "codemirror_mode": {
    "name": "ipython",
    "version": 3
   },
   "file_extension": ".py",
   "mimetype": "text/x-python",
   "name": "python",
   "nbconvert_exporter": "python",
   "pygments_lexer": "ipython3",
   "version": "3.6.4"
  }
 },
 "nbformat": 4,
 "nbformat_minor": 2
}
