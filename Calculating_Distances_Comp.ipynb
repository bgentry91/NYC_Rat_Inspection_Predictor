{
 "cells": [
  {
   "cell_type": "code",
   "execution_count": 1,
   "metadata": {
    "ExecuteTime": {
     "end_time": "2018-02-17T22:42:11.395706Z",
     "start_time": "2018-02-17T22:42:09.874615Z"
    },
    "collapsed": true,
    "run_control": {
     "marked": false
    }
   },
   "outputs": [],
   "source": [
    "import pandas as pd\n",
    "import pickle"
   ]
  },
  {
   "cell_type": "markdown",
   "metadata": {},
   "source": [
    "### Same logic as Calculating_Distances.ipynb\n",
    "* Calculating neighbor info for compliance operations performed by NYC\n",
    "* See associated markdown for info"
   ]
  },
  {
   "cell_type": "code",
   "execution_count": 2,
   "metadata": {
    "ExecuteTime": {
     "end_time": "2018-02-17T22:42:11.895091Z",
     "start_time": "2018-02-17T22:42:11.398689Z"
    },
    "collapsed": true,
    "run_control": {
     "marked": false
    }
   },
   "outputs": [],
   "source": [
    "with open(\"df_address.pkl\", 'rb') as picklefile: \n",
    "    df4 = pickle.load(picklefile)"
   ]
  },
  {
   "cell_type": "code",
   "execution_count": 3,
   "metadata": {
    "ExecuteTime": {
     "end_time": "2018-02-17T22:42:11.914980Z",
     "start_time": "2018-02-17T22:42:11.897549Z"
    },
    "collapsed": true
   },
   "outputs": [],
   "source": [
    "df = df4[['Block','XCoord','YCoord']].copy()\n",
    "df['x'] = 1"
   ]
  },
  {
   "cell_type": "code",
   "execution_count": 4,
   "metadata": {
    "ExecuteTime": {
     "end_time": "2018-02-17T22:42:12.033216Z",
     "start_time": "2018-02-17T22:42:11.918386Z"
    },
    "collapsed": true
   },
   "outputs": [],
   "source": [
    "df = df.groupby(['Block','XCoord','YCoord'], as_index=False).x.count()\n",
    "del df['x']"
   ]
  },
  {
   "cell_type": "code",
   "execution_count": 5,
   "metadata": {
    "ExecuteTime": {
     "end_time": "2018-02-17T22:42:12.052280Z",
     "start_time": "2018-02-17T22:42:12.036113Z"
    },
    "collapsed": true
   },
   "outputs": [],
   "source": [
    "df = df.groupby('Block')['XCoord','YCoord'].mean()"
   ]
  },
  {
   "cell_type": "code",
   "execution_count": 6,
   "metadata": {
    "ExecuteTime": {
     "end_time": "2018-02-17T22:42:12.991413Z",
     "start_time": "2018-02-17T22:42:12.055502Z"
    },
    "collapsed": true
   },
   "outputs": [],
   "source": [
    "from scipy.spatial.distance import pdist, squareform\n",
    "\n",
    "distances = pdist(df.values, metric='euclidean')\n",
    "dist_matrix = squareform(distances)"
   ]
  },
  {
   "cell_type": "code",
   "execution_count": 7,
   "metadata": {
    "ExecuteTime": {
     "end_time": "2018-02-17T22:42:13.011842Z",
     "start_time": "2018-02-17T22:42:12.997599Z"
    },
    "collapsed": true
   },
   "outputs": [],
   "source": [
    "indicies = ['block' + str(i) for i in df.index.tolist()]"
   ]
  },
  {
   "cell_type": "code",
   "execution_count": 8,
   "metadata": {
    "ExecuteTime": {
     "end_time": "2018-02-17T22:42:13.023982Z",
     "start_time": "2018-02-17T22:42:13.014865Z"
    },
    "collapsed": true
   },
   "outputs": [],
   "source": [
    "dist_matrix = pd.DataFrame(dist_matrix, columns = indicies, index = df.index)"
   ]
  },
  {
   "cell_type": "code",
   "execution_count": 9,
   "metadata": {
    "ExecuteTime": {
     "end_time": "2018-02-17T22:42:42.690011Z",
     "start_time": "2018-02-17T22:42:13.027409Z"
    },
    "collapsed": true
   },
   "outputs": [],
   "source": [
    "smallest = 6\n",
    "\n",
    "m_len = len(dist_matrix.columns)\n",
    "for col in dist_matrix.columns[:m_len]:\n",
    "    l = dist_matrix[col].nsmallest(smallest).index\n",
    "    for i in range(len(l)):\n",
    "        col_2c = m_len + i\n",
    "        row_2c = int(col[5:])\n",
    "        dist_matrix.loc[row_2c, col_2c] = int(l[i])\n",
    "        \n",
    "k = 0\n",
    "for j in range(m_len, m_len + smallest):\n",
    "    k += 1\n",
    "    dist_matrix.rename(columns={j: 'closest_' + str(k-1)}, inplace=True)"
   ]
  },
  {
   "cell_type": "code",
   "execution_count": 10,
   "metadata": {
    "ExecuteTime": {
     "end_time": "2018-02-17T22:42:42.736603Z",
     "start_time": "2018-02-17T22:42:42.706564Z"
    },
    "collapsed": true
   },
   "outputs": [],
   "source": [
    "df_closest = dist_matrix.iloc[:,-smallest:].reset_index()"
   ]
  },
  {
   "cell_type": "code",
   "execution_count": 11,
   "metadata": {
    "ExecuteTime": {
     "end_time": "2018-02-17T22:42:42.750021Z",
     "start_time": "2018-02-17T22:42:42.739614Z"
    },
    "collapsed": true
   },
   "outputs": [],
   "source": [
    "with open('df_closest.pkl', 'wb') as picklefile:\n",
    "    pickle.dump(df_closest, picklefile)"
   ]
  },
  {
   "cell_type": "code",
   "execution_count": 12,
   "metadata": {
    "ExecuteTime": {
     "end_time": "2018-02-17T22:42:42.793987Z",
     "start_time": "2018-02-17T22:42:42.753745Z"
    },
    "collapsed": true
   },
   "outputs": [],
   "source": [
    "with open(\"df_l4_comp.pkl\", 'rb') as picklefile: \n",
    "    df_l4 = pickle.load(picklefile)"
   ]
  },
  {
   "cell_type": "code",
   "execution_count": 13,
   "metadata": {
    "ExecuteTime": {
     "end_time": "2018-02-17T22:42:42.837256Z",
     "start_time": "2018-02-17T22:42:42.801326Z"
    },
    "collapsed": true
   },
   "outputs": [],
   "source": [
    "with open(\"df_all.pkl\", 'rb') as picklefile: \n",
    "    df_all = pickle.load(picklefile)"
   ]
  },
  {
   "cell_type": "code",
   "execution_count": 14,
   "metadata": {
    "ExecuteTime": {
     "end_time": "2018-02-17T22:42:43.190918Z",
     "start_time": "2018-02-17T22:42:42.841513Z"
    },
    "collapsed": true
   },
   "outputs": [],
   "source": [
    "df_l4 = df_all.merge(df_l4, how = 'left', on=['INSPECTION_YEAR_Q','BLOCK'])\n",
    "df_l4.fillna(0, inplace=True)"
   ]
  },
  {
   "cell_type": "code",
   "execution_count": 15,
   "metadata": {
    "ExecuteTime": {
     "end_time": "2018-02-17T22:42:43.234486Z",
     "start_time": "2018-02-17T22:42:43.211036Z"
    },
    "collapsed": true
   },
   "outputs": [],
   "source": [
    "for i in range(1,smallest):\n",
    "    df_closest['closest_' + str(i)] = df_closest['closest_' + str(i)].astype(int)"
   ]
  },
  {
   "cell_type": "code",
   "execution_count": 16,
   "metadata": {
    "ExecuteTime": {
     "end_time": "2018-02-17T22:42:43.391873Z",
     "start_time": "2018-02-17T22:42:43.237750Z"
    },
    "collapsed": true
   },
   "outputs": [],
   "source": [
    "df9 = df_l4.merge(df_closest, how = 'right', left_on='BLOCK', right_on='Block')\n",
    "del df9['Block']"
   ]
  },
  {
   "cell_type": "code",
   "execution_count": 17,
   "metadata": {
    "ExecuteTime": {
     "end_time": "2018-02-17T22:42:46.468602Z",
     "start_time": "2018-02-17T22:42:43.399122Z"
    },
    "collapsed": true
   },
   "outputs": [],
   "source": [
    "for i in range(1,smallest):\n",
    "    df9 = df9.merge(df_l4, left_on=['INSPECTION_YEAR_Q','closest_' + str(i)], right_on=['INSPECTION_YEAR_Q','BLOCK'])\n",
    "    del df9['BLOCK_y']\n",
    "    df9.rename(columns={'last_4_c_tot_y': 'c' + str(i) + '_l4ct', 'last_4_c_yes_y': 'c'+str(i)+'_l4cr','BLOCK_x': 'BLOCK',\n",
    "                       'last_4_c_tot_x': 'last_4_c_tot','last_4_c_yes_x': 'last_4_c_yes'}, inplace=True)"
   ]
  },
  {
   "cell_type": "code",
   "execution_count": 18,
   "metadata": {
    "ExecuteTime": {
     "end_time": "2018-02-17T22:42:46.514967Z",
     "start_time": "2018-02-17T22:42:46.482203Z"
    },
    "collapsed": true
   },
   "outputs": [],
   "source": [
    "col_to_keep = ['INSPECTION_YEAR_Q', 'BLOCK', 'last_4_c_tot', 'last_4_c_yes',\n",
    "               'c1_l4ct', 'c1_l4cr', 'c2_l4ct', 'c2_l4cr', 'c3_l4ct', 'c3_l4cr', 'c4_l4ct', 'c4_l4cr', \n",
    "               'c5_l4ct', 'c5_l4cr']\n",
    "df9 = df9[col_to_keep]"
   ]
  },
  {
   "cell_type": "code",
   "execution_count": 19,
   "metadata": {
    "ExecuteTime": {
     "end_time": "2018-02-17T22:42:46.701384Z",
     "start_time": "2018-02-17T22:42:46.518595Z"
    },
    "collapsed": true
   },
   "outputs": [],
   "source": [
    "with open('last_4_comp_data.pkl', 'wb') as picklefile:\n",
    "    pickle.dump(df9, picklefile)"
   ]
  }
 ],
 "metadata": {
  "kernelspec": {
   "display_name": "Python 3",
   "language": "python",
   "name": "python3"
  },
  "language_info": {
   "codemirror_mode": {
    "name": "ipython",
    "version": 3
   },
   "file_extension": ".py",
   "mimetype": "text/x-python",
   "name": "python",
   "nbconvert_exporter": "python",
   "pygments_lexer": "ipython3",
   "version": "3.6.4"
  }
 },
 "nbformat": 4,
 "nbformat_minor": 2
}
