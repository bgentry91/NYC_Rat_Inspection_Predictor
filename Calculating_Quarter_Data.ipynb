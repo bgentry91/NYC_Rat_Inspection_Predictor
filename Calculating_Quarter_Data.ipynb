{
 "cells": [
  {
   "cell_type": "code",
   "execution_count": 2,
   "metadata": {
    "ExecuteTime": {
     "end_time": "2018-02-17T22:13:50.260741Z",
     "start_time": "2018-02-17T22:13:50.254594Z"
    },
    "collapsed": true
   },
   "outputs": [],
   "source": [
    "import pandas as pd\n",
    "from datetime import datetime\n",
    "import pickle"
   ]
  },
  {
   "cell_type": "markdown",
   "metadata": {},
   "source": [
    "## Read in Rat Data - clean up & calculate results for last 4 quarters\n",
    "* Number of inspections & number of positive inspections"
   ]
  },
  {
   "cell_type": "code",
   "execution_count": 3,
   "metadata": {
    "ExecuteTime": {
     "end_time": "2018-02-17T22:14:07.897931Z",
     "start_time": "2018-02-17T22:13:50.868687Z"
    },
    "collapsed": true
   },
   "outputs": [],
   "source": [
    "df = pd.read_csv(\"Rodent_Inspection.csv\")"
   ]
  },
  {
   "cell_type": "code",
   "execution_count": 4,
   "metadata": {
    "ExecuteTime": {
     "end_time": "2018-02-17T22:14:39.941246Z",
     "start_time": "2018-02-17T22:14:07.907509Z"
    },
    "collapsed": true
   },
   "outputs": [],
   "source": [
    "df = df[df.INSPECTION_TYPE == 'INITIAL']\n",
    "df = df[df.BOROUGH.isin(['Manhattan','Bronx'])]\n",
    "df = df[df.HOUSE_NUMBER == df.HOUSE_NUMBER]\n",
    "df['ADDRESS'] = df.apply(lambda x: str(x['HOUSE_NUMBER']).strip() + \" \" + str(x['STREET_NAME']).strip(), axis=1)"
   ]
  },
  {
   "cell_type": "markdown",
   "metadata": {},
   "source": [
    "### Creating Quaterly Groupings"
   ]
  },
  {
   "cell_type": "code",
   "execution_count": 8,
   "metadata": {
    "ExecuteTime": {
     "end_time": "2018-02-17T22:22:42.299538Z",
     "start_time": "2018-02-17T22:22:42.286980Z"
    },
    "collapsed": true
   },
   "outputs": [],
   "source": [
    "def convert_ym_2_yq(ym):\n",
    "    l = ym.split()\n",
    "    if int(l[1]) <=3 and int(l[1]) >=1:\n",
    "        return l[0] + \" Q1\"\n",
    "    if int(l[1]) <=6 and int(l[1]) >=4:\n",
    "        return l[0] + \" Q2\"\n",
    "    if int(l[1]) <=9 and int(l[1]) >=7:\n",
    "        return l[0] + \" Q3\"\n",
    "    if int(l[1]) <=12 and int(l[1]) >=10:\n",
    "        return l[0] + \" Q4\""
   ]
  },
  {
   "cell_type": "code",
   "execution_count": 9,
   "metadata": {
    "ExecuteTime": {
     "end_time": "2018-02-17T22:31:50.585189Z",
     "start_time": "2018-02-17T22:22:42.303240Z"
    },
    "collapsed": true
   },
   "outputs": [],
   "source": [
    "df['INSPECTION_DATE_TS']= df.apply(lambda x: datetime.strptime(x['INSPECTION_DATE'], '%m/%d/%Y %H:%M:%S %p'), axis=1)\n",
    "df['INSPECTION_MONTH'] = df.apply(lambda x: x['INSPECTION_DATE_TS'].month, axis=1)\n",
    "df['INSPECTION_YEAR'] = df.apply(lambda x: x['INSPECTION_DATE_TS'].year, axis=1)\n",
    "df['INSPECTION_YEAR_MONTH'] = df.apply(lambda x: str(x['INSPECTION_DATE_TS'].year) + \" \" + str(x['INSPECTION_DATE_TS'].month), axis=1)\n",
    "df['INSPECTION_YEAR_Q'] = df.apply(lambda x: (convert_ym_2_yq(x['INSPECTION_YEAR_MONTH'])), axis=1)"
   ]
  },
  {
   "cell_type": "markdown",
   "metadata": {},
   "source": [
    "### Keeping only pertinent columns\n",
    "* Changing result to 1/0 to be more easily used for inspection calculations"
   ]
  },
  {
   "cell_type": "code",
   "execution_count": 10,
   "metadata": {
    "ExecuteTime": {
     "end_time": "2018-02-17T22:32:18.929297Z",
     "start_time": "2018-02-17T22:32:01.777684Z"
    },
    "collapsed": true
   },
   "outputs": [],
   "source": [
    "col_to_keep = ['BLOCK','RESULT', 'INSPECTION_YEAR', 'INSPECTION_YEAR_Q' ]\n",
    "\n",
    "df2 = df[col_to_keep].copy()\n",
    "df2 = df2[df2['INSPECTION_YEAR'] > 2009]\n",
    "df2 = df2[df2['INSPECTION_YEAR'] < 2018]\n",
    "del df2['INSPECTION_YEAR']\n",
    "df2['RESULT'] = df2.apply(lambda x: 1 if x['RESULT'] == 'Active Rat Signs' else 0, axis=1)\n",
    "df2 = df2[df2.BLOCK > 0]"
   ]
  },
  {
   "cell_type": "markdown",
   "metadata": {},
   "source": [
    "### Calculating total inspections & positive inspections\n",
    "* It creates an annoying header format that needs to be cleaned up as well (thus the zip)"
   ]
  },
  {
   "cell_type": "code",
   "execution_count": 11,
   "metadata": {
    "ExecuteTime": {
     "end_time": "2018-02-17T22:32:19.246533Z",
     "start_time": "2018-02-17T22:32:18.931520Z"
    },
    "collapsed": true
   },
   "outputs": [],
   "source": [
    "df3 = df2.groupby(['BLOCK','INSPECTION_YEAR_Q'], as_index=False).agg({'RESULT':['sum','count']})\n",
    "a = df3.columns.get_level_values(0).tolist()\n",
    "b = df3.columns.get_level_values(1).tolist()\n",
    "df3.columns = [m+n for m,n in zip(a,b)]\n"
   ]
  },
  {
   "cell_type": "markdown",
   "metadata": {},
   "source": [
    "### Grouping by Quarter & Block, then cartesian join to get all combinations\n",
    "* Will need to do this to calculate quarters/blocks with no inspections"
   ]
  },
  {
   "cell_type": "code",
   "execution_count": 12,
   "metadata": {
    "ExecuteTime": {
     "end_time": "2018-02-17T22:32:19.341296Z",
     "start_time": "2018-02-17T22:32:19.249044Z"
    },
    "collapsed": true
   },
   "outputs": [],
   "source": [
    "df_quarters = df2.groupby('INSPECTION_YEAR_Q', as_index=False)['RESULT'].sum()\n",
    "del df_quarters['RESULT']"
   ]
  },
  {
   "cell_type": "code",
   "execution_count": 13,
   "metadata": {
    "ExecuteTime": {
     "end_time": "2018-02-17T22:32:19.361693Z",
     "start_time": "2018-02-17T22:32:19.344472Z"
    },
    "collapsed": true
   },
   "outputs": [],
   "source": [
    "df09 = pd.DataFrame(['2018 Q1'], columns=list(['INSPECTION_YEAR_Q']))\n",
    "df_quarters = df_quarters.append(df09)"
   ]
  },
  {
   "cell_type": "code",
   "execution_count": 14,
   "metadata": {
    "ExecuteTime": {
     "end_time": "2018-02-17T22:32:19.425748Z",
     "start_time": "2018-02-17T22:32:19.367551Z"
    },
    "collapsed": true
   },
   "outputs": [],
   "source": [
    "df_blocks = df2.groupby('BLOCK', as_index=False)['RESULT'].sum()\n",
    "del df_blocks['RESULT']"
   ]
  },
  {
   "cell_type": "code",
   "execution_count": 15,
   "metadata": {
    "ExecuteTime": {
     "end_time": "2018-02-17T22:32:19.492097Z",
     "start_time": "2018-02-17T22:32:19.430425Z"
    },
    "collapsed": true
   },
   "outputs": [],
   "source": [
    "df_all = df_quarters.assign(foo=1).merge(df_blocks.assign(foo=1)).drop('foo', 1)"
   ]
  },
  {
   "cell_type": "code",
   "execution_count": 16,
   "metadata": {
    "ExecuteTime": {
     "end_time": "2018-02-17T22:32:19.543364Z",
     "start_time": "2018-02-17T22:32:19.501344Z"
    },
    "collapsed": true
   },
   "outputs": [],
   "source": [
    "# always pickling for later\n",
    "with open('df_all.pkl', 'wb') as picklefile:\n",
    "    pickle.dump(df_all, picklefile)"
   ]
  },
  {
   "cell_type": "markdown",
   "metadata": {},
   "source": [
    "### Create all combos, pickle for later\n",
    "* Fill null cells w/ 0"
   ]
  },
  {
   "cell_type": "code",
   "execution_count": 17,
   "metadata": {
    "ExecuteTime": {
     "end_time": "2018-02-17T22:32:25.029128Z",
     "start_time": "2018-02-17T22:32:24.929449Z"
    },
    "collapsed": true
   },
   "outputs": [],
   "source": [
    "df_combos = df_all.merge(df3, how='left', on=['INSPECTION_YEAR_Q','BLOCK']).copy()"
   ]
  },
  {
   "cell_type": "code",
   "execution_count": 18,
   "metadata": {
    "ExecuteTime": {
     "end_time": "2018-02-17T22:32:25.281644Z",
     "start_time": "2018-02-17T22:32:25.161776Z"
    },
    "collapsed": true
   },
   "outputs": [],
   "source": [
    "df_combos.sort_values(['BLOCK','INSPECTION_YEAR_Q'], inplace=True)\n",
    "df_combos.reset_index(inplace=True)\n",
    "del df_combos['index']\n",
    "df_combos.fillna(0, inplace=True)"
   ]
  },
  {
   "cell_type": "code",
   "execution_count": 19,
   "metadata": {
    "ExecuteTime": {
     "end_time": "2018-02-17T22:32:25.398554Z",
     "start_time": "2018-02-17T22:32:25.369147Z"
    },
    "collapsed": true
   },
   "outputs": [],
   "source": [
    "#This get used separately in the model - save it!\n",
    "with open('df_qr.pkl', 'wb') as picklefile:\n",
    "    pickle.dump(df_combos, picklefile)"
   ]
  },
  {
   "cell_type": "code",
   "execution_count": 20,
   "metadata": {
    "ExecuteTime": {
     "end_time": "2018-02-17T22:32:25.988396Z",
     "start_time": "2018-02-17T22:32:25.980967Z"
    },
    "collapsed": true
   },
   "outputs": [],
   "source": [
    "###########SPLIT#############"
   ]
  },
  {
   "cell_type": "markdown",
   "metadata": {},
   "source": [
    "### Calculating last 4 quarter data for each block\n",
    "* Pickle to be used in Calculating_Distances.ipynb"
   ]
  },
  {
   "cell_type": "code",
   "execution_count": 21,
   "metadata": {
    "ExecuteTime": {
     "end_time": "2018-02-17T22:32:27.988441Z",
     "start_time": "2018-02-17T22:32:27.568922Z"
    },
    "collapsed": true
   },
   "outputs": [],
   "source": [
    "for i in range(1,5):\n",
    "    df_combos['RESULT_S' + str(i)] = df_combos.groupby('BLOCK')['RESULTsum'].shift(i)\n",
    "    df_combos['RESULT_C' + str(i)] = df_combos.groupby('BLOCK')['RESULTcount'].shift(i)\n",
    "df_combos.dropna(inplace=True)"
   ]
  },
  {
   "cell_type": "code",
   "execution_count": 22,
   "metadata": {
    "ExecuteTime": {
     "end_time": "2018-02-17T22:32:50.527379Z",
     "start_time": "2018-02-17T22:32:28.017902Z"
    },
    "collapsed": true
   },
   "outputs": [],
   "source": [
    "df_combos['last_4_ins'] = df_combos.apply(lambda x: x['RESULT_C1'] + x['RESULT_C2'] + \n",
    "                                                    x['RESULT_C3'] + x['RESULT_C4'] ,\n",
    "                                          axis = 1)\n",
    "df_combos['last_4_rats'] = df_combos.apply(lambda x: x['RESULT_S1'] + x['RESULT_S2'] + \n",
    "                                                    x['RESULT_S3'] + x['RESULT_S4'],\n",
    "                                          axis = 1)\n",
    "del df_combos['RESULT_C1']\n",
    "del df_combos['RESULT_C2']\n",
    "del df_combos['RESULT_C3']\n",
    "del df_combos['RESULT_C4']\n",
    "del df_combos['RESULT_S1']\n",
    "del df_combos['RESULT_S2']\n",
    "del df_combos['RESULT_S3']\n",
    "del df_combos['RESULT_S4']"
   ]
  },
  {
   "cell_type": "code",
   "execution_count": 23,
   "metadata": {
    "ExecuteTime": {
     "end_time": "2018-02-17T22:32:50.616100Z",
     "start_time": "2018-02-17T22:32:50.537647Z"
    },
    "collapsed": true
   },
   "outputs": [],
   "source": [
    "df_combos = df_combos.copy()\n",
    "df_l4 = df_combos.iloc[:,0:6].copy()\n",
    "del df_l4['RESULTsum']\n",
    "del df_l4['RESULTcount']\n",
    "\n",
    "with open('df_l4.pkl', 'wb') as picklefile:\n",
    "    pickle.dump(df_l4, picklefile)"
   ]
  },
  {
   "cell_type": "code",
   "execution_count": null,
   "metadata": {
    "collapsed": true
   },
   "outputs": [],
   "source": []
  }
 ],
 "metadata": {
  "kernelspec": {
   "display_name": "Python 3",
   "language": "python",
   "name": "python3"
  },
  "language_info": {
   "codemirror_mode": {
    "name": "ipython",
    "version": 3
   },
   "file_extension": ".py",
   "mimetype": "text/x-python",
   "name": "python",
   "nbconvert_exporter": "python",
   "pygments_lexer": "ipython3",
   "version": "3.6.4"
  }
 },
 "nbformat": 4,
 "nbformat_minor": 2
}
