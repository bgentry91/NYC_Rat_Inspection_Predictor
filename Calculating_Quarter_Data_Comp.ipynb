{
 "cells": [
  {
   "cell_type": "code",
   "execution_count": 1,
   "metadata": {
    "ExecuteTime": {
     "end_time": "2018-02-17T22:37:33.583553Z",
     "start_time": "2018-02-17T22:37:32.427620Z"
    },
    "collapsed": true
   },
   "outputs": [],
   "source": [
    "import pandas as pd\n",
    "from datetime import datetime\n",
    "import pickle"
   ]
  },
  {
   "cell_type": "markdown",
   "metadata": {},
   "source": [
    "### Same logic as Calculating_Quater_Data.ipynb\n",
    "* Calculating Last 4 quarter info for follow-up compliance visits performed by NYC\n",
    "* See associated markdown for info"
   ]
  },
  {
   "cell_type": "code",
   "execution_count": 2,
   "metadata": {
    "ExecuteTime": {
     "end_time": "2018-02-17T22:37:33.593951Z",
     "start_time": "2018-02-17T22:37:33.586391Z"
    },
    "collapsed": true
   },
   "outputs": [],
   "source": [
    "pd.set_option('display.max_columns', 500)\n",
    "pd.set_option('display.max_rows', 500)"
   ]
  },
  {
   "cell_type": "code",
   "execution_count": 3,
   "metadata": {
    "ExecuteTime": {
     "end_time": "2018-02-17T22:37:50.320631Z",
     "start_time": "2018-02-17T22:37:33.596564Z"
    },
    "collapsed": true
   },
   "outputs": [],
   "source": [
    "df = pd.read_csv(\"Rodent_Inspection.csv\")"
   ]
  },
  {
   "cell_type": "code",
   "execution_count": 4,
   "metadata": {
    "ExecuteTime": {
     "end_time": "2018-02-17T22:37:56.659595Z",
     "start_time": "2018-02-17T22:37:50.332319Z"
    },
    "collapsed": true
   },
   "outputs": [],
   "source": [
    "df = df[df.INSPECTION_TYPE == 'COMPLIANCE']\n",
    "df = df[df.BOROUGH.isin(['Manhattan','Bronx'])]\n",
    "df = df[df.HOUSE_NUMBER == df.HOUSE_NUMBER]\n",
    "df['ADDRESS'] = df.apply(lambda x: str(x['HOUSE_NUMBER']).strip() + \" \" + str(x['STREET_NAME']).strip(), axis=1)"
   ]
  },
  {
   "cell_type": "code",
   "execution_count": 5,
   "metadata": {
    "ExecuteTime": {
     "end_time": "2018-02-17T22:37:56.671814Z",
     "start_time": "2018-02-17T22:37:56.662129Z"
    },
    "collapsed": true
   },
   "outputs": [],
   "source": [
    "def convert_ym_2_yq(ym):\n",
    "    l = ym.split()\n",
    "    if int(l[1]) <=3 and int(l[1]) >=1:\n",
    "        return l[0] + \" Q1\"\n",
    "    if int(l[1]) <=6 and int(l[1]) >=4:\n",
    "        return l[0] + \" Q2\"\n",
    "    if int(l[1]) <=9 and int(l[1]) >=7:\n",
    "        return l[0] + \" Q3\"\n",
    "    if int(l[1]) <=12 and int(l[1]) >=10:\n",
    "        return l[0] + \" Q4\""
   ]
  },
  {
   "cell_type": "code",
   "execution_count": 6,
   "metadata": {
    "ExecuteTime": {
     "end_time": "2018-02-17T22:39:08.679955Z",
     "start_time": "2018-02-17T22:37:56.674834Z"
    },
    "collapsed": true
   },
   "outputs": [],
   "source": [
    "df['INSPECTION_DATE_TS']= df.apply(lambda x: datetime.strptime(x['INSPECTION_DATE'], '%m/%d/%Y %H:%M:%S %p'), axis=1)\n",
    "df['INSPECTION_MONTH'] = df.apply(lambda x: x['INSPECTION_DATE_TS'].month, axis=1)\n",
    "df['INSPECTION_YEAR'] = df.apply(lambda x: x['INSPECTION_DATE_TS'].year, axis=1)\n",
    "df['INSPECTION_YEAR_MONTH'] = df.apply(lambda x: str(x['INSPECTION_DATE_TS'].year) + \" \" + str(x['INSPECTION_DATE_TS'].month), axis=1)\n",
    "df['INSPECTION_YEAR_Q'] = df.apply(lambda x: (convert_ym_2_yq(x['INSPECTION_YEAR_MONTH'])), axis=1)"
   ]
  },
  {
   "cell_type": "code",
   "execution_count": 7,
   "metadata": {
    "ExecuteTime": {
     "end_time": "2018-02-17T22:39:11.746487Z",
     "start_time": "2018-02-17T22:39:08.683804Z"
    },
    "collapsed": true
   },
   "outputs": [],
   "source": [
    "col_to_keep = ['BLOCK','RESULT', 'INSPECTION_YEAR', 'INSPECTION_YEAR_Q' ]\n",
    "\n",
    "df2 = df[col_to_keep].copy()\n",
    "df2 = df2[df2['INSPECTION_YEAR'] > 2009]\n",
    "df2 = df2[df2['INSPECTION_YEAR'] < 2018]\n",
    "del df2['INSPECTION_YEAR']\n",
    "df2['RESULT'] = df2.apply(lambda x: 1 if x['RESULT'] == 'Active Rat Signs' else 0, axis=1)\n",
    "df2 = df2[df2.BLOCK > 0]"
   ]
  },
  {
   "cell_type": "code",
   "execution_count": 8,
   "metadata": {
    "ExecuteTime": {
     "end_time": "2018-02-17T22:39:11.815577Z",
     "start_time": "2018-02-17T22:39:11.749550Z"
    },
    "collapsed": true
   },
   "outputs": [],
   "source": [
    "df3 = df2.groupby(['BLOCK','INSPECTION_YEAR_Q'], as_index=False).agg({'RESULT':['sum','count']})\n",
    "a = df3.columns.get_level_values(0).tolist()\n",
    "b = df3.columns.get_level_values(1).tolist()\n",
    "df3.columns = [m+n for m,n in zip(a,b)]\n"
   ]
  },
  {
   "cell_type": "code",
   "execution_count": 9,
   "metadata": {
    "ExecuteTime": {
     "end_time": "2018-02-17T22:39:11.841260Z",
     "start_time": "2018-02-17T22:39:11.818985Z"
    },
    "collapsed": true
   },
   "outputs": [],
   "source": [
    "df_quarters = df2.groupby('INSPECTION_YEAR_Q', as_index=False)['RESULT'].sum()\n",
    "del df_quarters['RESULT']"
   ]
  },
  {
   "cell_type": "code",
   "execution_count": 10,
   "metadata": {
    "ExecuteTime": {
     "end_time": "2018-02-17T22:39:11.863417Z",
     "start_time": "2018-02-17T22:39:11.844787Z"
    },
    "collapsed": true
   },
   "outputs": [],
   "source": [
    "df_blocks = df2.groupby('BLOCK', as_index=False)['RESULT'].sum()\n",
    "del df_blocks['RESULT']"
   ]
  },
  {
   "cell_type": "code",
   "execution_count": 11,
   "metadata": {
    "ExecuteTime": {
     "end_time": "2018-02-17T22:39:11.905678Z",
     "start_time": "2018-02-17T22:39:11.866918Z"
    },
    "collapsed": true
   },
   "outputs": [],
   "source": [
    "df_all = df_quarters.assign(foo=1).merge(df_blocks.assign(foo=1)).drop('foo', 1)"
   ]
  },
  {
   "cell_type": "code",
   "execution_count": 12,
   "metadata": {
    "ExecuteTime": {
     "end_time": "2018-02-17T22:39:11.978719Z",
     "start_time": "2018-02-17T22:39:11.908860Z"
    },
    "collapsed": true
   },
   "outputs": [],
   "source": [
    "df_combos = df_all.merge(df3, how='left', on=['INSPECTION_YEAR_Q','BLOCK']).copy()"
   ]
  },
  {
   "cell_type": "code",
   "execution_count": 13,
   "metadata": {
    "ExecuteTime": {
     "end_time": "2018-02-17T22:39:12.105584Z",
     "start_time": "2018-02-17T22:39:11.981656Z"
    },
    "collapsed": true
   },
   "outputs": [],
   "source": [
    "df_combos.sort_values(['BLOCK','INSPECTION_YEAR_Q'], inplace=True)\n",
    "df_combos.reset_index(inplace=True)\n",
    "del df_combos['index']\n",
    "df_combos.fillna(0, inplace=True)"
   ]
  },
  {
   "cell_type": "code",
   "execution_count": 14,
   "metadata": {
    "ExecuteTime": {
     "end_time": "2018-02-17T22:39:12.154800Z",
     "start_time": "2018-02-17T22:39:12.111612Z"
    },
    "collapsed": true
   },
   "outputs": [],
   "source": [
    "with open('df_qr_comp.pkl', 'wb') as picklefile:\n",
    "    pickle.dump(df_combos, picklefile)"
   ]
  },
  {
   "cell_type": "code",
   "execution_count": 15,
   "metadata": {
    "ExecuteTime": {
     "end_time": "2018-02-17T22:39:12.161636Z",
     "start_time": "2018-02-17T22:39:12.157277Z"
    },
    "collapsed": true
   },
   "outputs": [],
   "source": [
    "###########SPLIT#############"
   ]
  },
  {
   "cell_type": "code",
   "execution_count": 16,
   "metadata": {
    "ExecuteTime": {
     "end_time": "2018-02-17T22:39:12.185828Z",
     "start_time": "2018-02-17T22:39:12.164279Z"
    },
    "collapsed": true
   },
   "outputs": [],
   "source": [
    "with open(\"df_qr_comp.pkl\", 'rb') as picklefile: \n",
    "    df_combos = pickle.load(picklefile)"
   ]
  },
  {
   "cell_type": "code",
   "execution_count": 17,
   "metadata": {
    "ExecuteTime": {
     "end_time": "2018-02-17T22:39:12.542538Z",
     "start_time": "2018-02-17T22:39:12.188624Z"
    },
    "collapsed": true
   },
   "outputs": [],
   "source": [
    "for i in range(1,5):\n",
    "    df_combos['RESULT_S' + str(i)] = df_combos.groupby('BLOCK')['RESULTsum'].shift(i)\n",
    "    df_combos['RESULT_C' + str(i)] = df_combos.groupby('BLOCK')['RESULTcount'].shift(i)\n",
    "df_combos.dropna(inplace=True)"
   ]
  },
  {
   "cell_type": "code",
   "execution_count": 18,
   "metadata": {
    "ExecuteTime": {
     "end_time": "2018-02-17T22:39:30.498486Z",
     "start_time": "2018-02-17T22:39:12.545675Z"
    },
    "collapsed": true
   },
   "outputs": [],
   "source": [
    "df_combos['last_4_c_yes'] = df_combos.apply(lambda x: x['RESULT_C1'] + x['RESULT_C2'] + \n",
    "                                                    x['RESULT_C3'] + x['RESULT_C4'] ,\n",
    "                                          axis = 1)\n",
    "df_combos['last_4_c_tot'] = df_combos.apply(lambda x: x['RESULT_S1'] + x['RESULT_S2'] + \n",
    "                                                    x['RESULT_S3'] + x['RESULT_S4'],\n",
    "                                          axis = 1)\n",
    "del df_combos['RESULT_C1']\n",
    "del df_combos['RESULT_C2']\n",
    "del df_combos['RESULT_C3']\n",
    "del df_combos['RESULT_C4']\n",
    "del df_combos['RESULT_S1']\n",
    "del df_combos['RESULT_S2']\n",
    "del df_combos['RESULT_S3']\n",
    "del df_combos['RESULT_S4']"
   ]
  },
  {
   "cell_type": "code",
   "execution_count": 19,
   "metadata": {
    "ExecuteTime": {
     "end_time": "2018-02-17T22:39:30.572181Z",
     "start_time": "2018-02-17T22:39:30.502116Z"
    },
    "collapsed": true
   },
   "outputs": [],
   "source": [
    "df_combos = df_combos.copy()\n",
    "df_l4 = df_combos.iloc[:,0:6].copy()\n",
    "del df_l4['RESULTsum']\n",
    "del df_l4['RESULTcount']\n",
    "\n",
    "with open('df_l4_comp.pkl', 'wb') as picklefile:\n",
    "    pickle.dump(df_l4, picklefile)"
   ]
  }
 ],
 "metadata": {
  "kernelspec": {
   "display_name": "Python 3",
   "language": "python",
   "name": "python3"
  },
  "language_info": {
   "codemirror_mode": {
    "name": "ipython",
    "version": 3
   },
   "file_extension": ".py",
   "mimetype": "text/x-python",
   "name": "python",
   "nbconvert_exporter": "python",
   "pygments_lexer": "ipython3",
   "version": "3.6.4"
  }
 },
 "nbformat": 4,
 "nbformat_minor": 2
}
