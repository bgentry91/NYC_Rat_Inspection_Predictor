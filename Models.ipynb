{
 "cells": [
  {
   "cell_type": "code",
   "execution_count": 2,
   "metadata": {
    "ExecuteTime": {
     "end_time": "2018-02-18T14:03:28.692171Z",
     "start_time": "2018-02-18T14:03:23.879262Z"
    },
    "collapsed": true
   },
   "outputs": [],
   "source": [
    "import pandas as pd\n",
    "import numpy as np\n",
    "import matplotlib.pyplot as plt\n",
    "import seaborn as sns\n",
    "import pickle\n",
    "\n",
    "%matplotlib inline"
   ]
  },
  {
   "cell_type": "code",
   "execution_count": 3,
   "metadata": {
    "ExecuteTime": {
     "end_time": "2018-02-18T14:03:28.749995Z",
     "start_time": "2018-02-18T14:03:28.715855Z"
    }
   },
   "outputs": [
    {
     "data": {
      "application/javascript": [
       "IPython.OutputArea.prototype._should_scroll = function(lines) {\n",
       "return false; \n",
       "}"
      ],
      "text/plain": [
       "<IPython.core.display.Javascript object>"
      ]
     },
     "metadata": {},
     "output_type": "display_data"
    }
   ],
   "source": [
    "%%javascript\n",
    "IPython.OutputArea.prototype._should_scroll = function(lines) {\n",
    "return false; \n",
    "}"
   ]
  },
  {
   "cell_type": "code",
   "execution_count": 4,
   "metadata": {
    "ExecuteTime": {
     "end_time": "2018-02-18T14:03:28.781008Z",
     "start_time": "2018-02-18T14:03:28.757059Z"
    },
    "collapsed": true
   },
   "outputs": [],
   "source": [
    "pd.set_option('display.max_rows', 100)\n",
    "pd.set_option('display.float_format', lambda x: '%.3f' % x)\n"
   ]
  },
  {
   "cell_type": "markdown",
   "metadata": {},
   "source": [
    "### Finally using all that cleaned data!"
   ]
  },
  {
   "cell_type": "code",
   "execution_count": 6,
   "metadata": {
    "ExecuteTime": {
     "end_time": "2018-02-18T14:05:22.646394Z",
     "start_time": "2018-02-18T14:05:22.518742Z"
    }
   },
   "outputs": [],
   "source": [
    "with open(\"last_4_data.pkl\", 'rb') as picklefile: \n",
    "    dfl4 = pickle.load(picklefile)"
   ]
  },
  {
   "cell_type": "code",
   "execution_count": 7,
   "metadata": {
    "ExecuteTime": {
     "end_time": "2018-02-18T14:05:23.497359Z",
     "start_time": "2018-02-18T14:05:23.455995Z"
    },
    "collapsed": true
   },
   "outputs": [],
   "source": [
    "with open(\"df_qr.pkl\", 'rb') as picklefile: \n",
    "    df_c = pickle.load(picklefile)"
   ]
  },
  {
   "cell_type": "markdown",
   "metadata": {},
   "source": [
    "* If we didnt inspect it, it's not really a valid datapoint"
   ]
  },
  {
   "cell_type": "code",
   "execution_count": 8,
   "metadata": {
    "ExecuteTime": {
     "end_time": "2018-02-18T14:05:24.510988Z",
     "start_time": "2018-02-18T14:05:24.478515Z"
    },
    "collapsed": true
   },
   "outputs": [],
   "source": [
    "df_c = df_c[df_c.RESULTcount > 0]\n",
    "del df_c['RESULTcount']"
   ]
  },
  {
   "cell_type": "markdown",
   "metadata": {},
   "source": [
    "* Update the reponse to rats/no rats"
   ]
  },
  {
   "cell_type": "code",
   "execution_count": 9,
   "metadata": {
    "ExecuteTime": {
     "end_time": "2018-02-18T14:05:27.128841Z",
     "start_time": "2018-02-18T14:05:25.138360Z"
    },
    "collapsed": true
   },
   "outputs": [],
   "source": [
    "\n",
    "df_c['RESULT'] = df_c.apply(lambda x: 'Passed Inspection' if x['RESULTsum'] == 0 else 'Active Rat Signs', axis=1)\n",
    "del df_c['RESULTsum']"
   ]
  },
  {
   "cell_type": "markdown",
   "metadata": {},
   "source": [
    "* Merge last 4 quarter data with actuals"
   ]
  },
  {
   "cell_type": "code",
   "execution_count": 10,
   "metadata": {
    "ExecuteTime": {
     "end_time": "2018-02-18T14:05:27.884735Z",
     "start_time": "2018-02-18T14:05:27.640582Z"
    },
    "collapsed": true
   },
   "outputs": [],
   "source": [
    "df_t = df_c.merge(dfl4, on=['INSPECTION_YEAR_Q','BLOCK'])"
   ]
  },
  {
   "cell_type": "markdown",
   "metadata": {},
   "source": [
    "* Importing Bronx and MN Lot Data (from PLUTO cleaning) - Inital_Cleaning.ipynb"
   ]
  },
  {
   "cell_type": "code",
   "execution_count": 19,
   "metadata": {
    "ExecuteTime": {
     "end_time": "2018-02-18T14:22:01.362147Z",
     "start_time": "2018-02-18T14:22:00.905034Z"
    },
    "collapsed": true,
    "run_control": {
     "marked": false
    }
   },
   "outputs": [],
   "source": [
    "with open(\"lot_data.pkl\", 'rb') as picklefile: \n",
    "    df_lot = pickle.load(picklefile)"
   ]
  },
  {
   "cell_type": "markdown",
   "metadata": {},
   "source": [
    "* Going to take percentages of certain columns (by block) because of binning (categoricals)"
   ]
  },
  {
   "cell_type": "code",
   "execution_count": 20,
   "metadata": {
    "ExecuteTime": {
     "end_time": "2018-02-18T14:22:02.075616Z",
     "start_time": "2018-02-18T14:22:01.820956Z"
    }
   },
   "outputs": [],
   "source": [
    "cols_to_per = ['Block','LandUse','OwnerType','SanitBoro','SanitDistrict','SanitSub','ProxCode',\n",
    "               'BsmtCode','HistDist','PFIRM15_FLAG','Zoning','Commercial_Overlay','Height_Limited','IrrLotCode']\n",
    "df_lot_totals = df_lot[cols_to_per]\n",
    "dummies = ['LandUse','OwnerType','SanitBoro','SanitDistrict','SanitSub','ProxCode','BsmtCode','Zoning','IrrLotCode']\n",
    "df_lot_totals = pd.get_dummies(df_lot_totals, columns = dummies, drop_first=False)"
   ]
  },
  {
   "cell_type": "code",
   "execution_count": 21,
   "metadata": {
    "ExecuteTime": {
     "end_time": "2018-02-18T14:22:03.611275Z",
     "start_time": "2018-02-18T14:22:03.449882Z"
    },
    "collapsed": true
   },
   "outputs": [],
   "source": [
    "df_block_count = df_lot.reset_index().groupby('Block', as_index=False)['index'].count()"
   ]
  },
  {
   "cell_type": "code",
   "execution_count": 22,
   "metadata": {
    "ExecuteTime": {
     "end_time": "2018-02-18T14:22:04.050410Z",
     "start_time": "2018-02-18T14:22:04.034934Z"
    },
    "collapsed": true
   },
   "outputs": [],
   "source": [
    "d = {}\n",
    "for col in df_lot_totals.columns[1:]:\n",
    "    d[col] = 'sum'"
   ]
  },
  {
   "cell_type": "code",
   "execution_count": 23,
   "metadata": {
    "ExecuteTime": {
     "end_time": "2018-02-18T14:22:04.693333Z",
     "start_time": "2018-02-18T14:22:04.303311Z"
    },
    "collapsed": true
   },
   "outputs": [],
   "source": [
    "df_block_sum = df_lot_totals.groupby('Block', as_index=False).agg(d)"
   ]
  },
  {
   "cell_type": "code",
   "execution_count": 24,
   "metadata": {
    "ExecuteTime": {
     "end_time": "2018-02-18T14:22:04.722107Z",
     "start_time": "2018-02-18T14:22:04.695310Z"
    },
    "collapsed": true
   },
   "outputs": [],
   "source": [
    "df_block_dum = df_block_sum.merge(df_block_count, on='Block')"
   ]
  },
  {
   "cell_type": "code",
   "execution_count": 25,
   "metadata": {
    "ExecuteTime": {
     "end_time": "2018-02-18T14:22:28.797140Z",
     "start_time": "2018-02-18T14:22:04.984841Z"
    },
    "collapsed": true
   },
   "outputs": [],
   "source": [
    "for col in df_block_sum.columns[1:]:\n",
    "    df_block_dum[col] = df_block_dum.apply(lambda x: x[col]/x['index'], axis=1)"
   ]
  },
  {
   "cell_type": "markdown",
   "metadata": {},
   "source": [
    "* Calculate last year building was altered"
   ]
  },
  {
   "cell_type": "code",
   "execution_count": 26,
   "metadata": {
    "ExecuteTime": {
     "end_time": "2018-02-18T14:22:37.087938Z",
     "start_time": "2018-02-18T14:22:28.800452Z"
    },
    "collapsed": true
   },
   "outputs": [],
   "source": [
    "df_lot['LastAlterYear'] = df_lot.apply(lambda x: max(x['YearBuilt'],x['YearAlter1'],x['YearAlter1']), axis=1)"
   ]
  },
  {
   "cell_type": "markdown",
   "metadata": {},
   "source": [
    "* Sum & Medians of continuous columns as seems logical"
   ]
  },
  {
   "cell_type": "code",
   "execution_count": 27,
   "metadata": {
    "ExecuteTime": {
     "end_time": "2018-02-18T14:22:37.107387Z",
     "start_time": "2018-02-18T14:22:37.094064Z"
    },
    "collapsed": true
   },
   "outputs": [],
   "source": [
    "cols_to_sum = ['Easements','LotArea','BldgArea','ComArea','ResArea','OfficeArea','RetailArea','GarageArea',\n",
    "               'StrgeArea','FactryArea','OtherArea','NumBldgs']\n",
    "cols_to_median = ['NumFloors','UnitsRes','UnitsTotal','LotFront','LotDepth','BldgFront','BldgDepth',\n",
    "                  'AssessLand','AssessTot','ExemptLand','ExemptTot','YearBuilt','XCoord','YCoord', \n",
    "                  'LastAlterYear','BuiltFAR','ResidFAR','CommFAR','FacilFAR']"
   ]
  },
  {
   "cell_type": "code",
   "execution_count": 28,
   "metadata": {
    "ExecuteTime": {
     "end_time": "2018-02-18T14:22:37.119054Z",
     "start_time": "2018-02-18T14:22:37.113082Z"
    },
    "collapsed": true
   },
   "outputs": [],
   "source": [
    "d = {}\n",
    "for col in cols_to_sum:\n",
    "    d[col] = 'sum'\n",
    "for col in cols_to_median:\n",
    "    d[col] = 'median'\n"
   ]
  },
  {
   "cell_type": "code",
   "execution_count": 29,
   "metadata": {
    "ExecuteTime": {
     "end_time": "2018-02-18T14:22:37.371780Z",
     "start_time": "2018-02-18T14:22:37.121886Z"
    },
    "collapsed": true
   },
   "outputs": [],
   "source": [
    "df_block = df_lot.groupby('Block',as_index=False).agg(d)"
   ]
  },
  {
   "cell_type": "code",
   "execution_count": 30,
   "metadata": {
    "ExecuteTime": {
     "end_time": "2018-02-18T14:22:37.383245Z",
     "start_time": "2018-02-18T14:22:37.375095Z"
    },
    "collapsed": true
   },
   "outputs": [],
   "source": [
    "df_block=df_block[df_block.LotArea > 0]"
   ]
  },
  {
   "cell_type": "markdown",
   "metadata": {},
   "source": [
    "* Helper function to take percentage"
   ]
  },
  {
   "cell_type": "code",
   "execution_count": 31,
   "metadata": {
    "ExecuteTime": {
     "end_time": "2018-02-18T14:22:37.397810Z",
     "start_time": "2018-02-18T14:22:37.388251Z"
    },
    "collapsed": true
   },
   "outputs": [],
   "source": [
    "def rwp(little,big):\n",
    "    global df_block\n",
    "    df_block[little + '_per'] = df_block.apply(lambda x: x[little]/x[big], axis=1)"
   ]
  },
  {
   "cell_type": "code",
   "execution_count": 32,
   "metadata": {
    "ExecuteTime": {
     "end_time": "2018-02-18T14:22:40.560167Z",
     "start_time": "2018-02-18T14:22:37.400786Z"
    },
    "collapsed": true
   },
   "outputs": [],
   "source": [
    "df_block['TotArea'] = (df_block.BldgArea + df_block.ComArea + df_block.ResArea\n",
    "                        + df_block.OfficeArea + df_block.RetailArea + df_block.GarageArea\n",
    "                        + df_block.StrgeArea + df_block.FactryArea + df_block.OtherArea + df_block.LotArea)\n",
    "cols_to_per = ['BldgArea','ComArea','ResArea','OfficeArea','RetailArea','GarageArea',\n",
    "               'StrgeArea','FactryArea','OtherArea','LotArea']\n",
    "for col in cols_to_per:\n",
    "    rwp(col,'TotArea')"
   ]
  },
  {
   "cell_type": "code",
   "execution_count": 33,
   "metadata": {
    "ExecuteTime": {
     "end_time": "2018-02-18T14:22:40.577741Z",
     "start_time": "2018-02-18T14:22:40.562907Z"
    },
    "collapsed": true
   },
   "outputs": [],
   "source": [
    "df_block = df_block[df_block.LotFront > 0]\n",
    "df_block = df_block[df_block.LotDepth > 0]"
   ]
  },
  {
   "cell_type": "code",
   "execution_count": 34,
   "metadata": {
    "ExecuteTime": {
     "end_time": "2018-02-18T14:22:40.996227Z",
     "start_time": "2018-02-18T14:22:40.581113Z"
    },
    "collapsed": true
   },
   "outputs": [],
   "source": [
    "df_block['build_per_lot'] = df_block.apply(lambda x:(x['BldgFront']*x['BldgDepth'])/(x['LotFront'] * x['LotDepth']),axis=1)"
   ]
  },
  {
   "cell_type": "markdown",
   "metadata": {},
   "source": [
    "### Merge rat inspection data with block data!"
   ]
  },
  {
   "cell_type": "code",
   "execution_count": 35,
   "metadata": {
    "ExecuteTime": {
     "end_time": "2018-02-18T14:22:41.029076Z",
     "start_time": "2018-02-18T14:22:40.999465Z"
    },
    "collapsed": true
   },
   "outputs": [],
   "source": [
    "df_block_t = df_block.merge(df_block_dum, on='Block')"
   ]
  },
  {
   "cell_type": "code",
   "execution_count": 36,
   "metadata": {
    "ExecuteTime": {
     "end_time": "2018-02-18T14:22:41.121190Z",
     "start_time": "2018-02-18T14:22:41.032247Z"
    },
    "collapsed": true
   },
   "outputs": [],
   "source": [
    "df_f = df_t.merge(df_block_t, left_on='BLOCK', right_on = 'Block')"
   ]
  },
  {
   "cell_type": "markdown",
   "metadata": {
    "ExecuteTime": {
     "end_time": "2018-02-17T22:56:21.188128Z",
     "start_time": "2018-02-17T22:56:21.111420Z"
    }
   },
   "source": [
    "### Merge baiting and compliance data with what we've already got"
   ]
  },
  {
   "cell_type": "code",
   "execution_count": 37,
   "metadata": {
    "ExecuteTime": {
     "end_time": "2018-02-18T14:22:41.168327Z",
     "start_time": "2018-02-18T14:22:41.124539Z"
    },
    "collapsed": true,
    "run_control": {
     "marked": false
    }
   },
   "outputs": [],
   "source": [
    "with open(\"last_4_bait_data.pkl\", 'rb') as picklefile: \n",
    "    df_bait = pickle.load(picklefile)"
   ]
  },
  {
   "cell_type": "code",
   "execution_count": 38,
   "metadata": {
    "ExecuteTime": {
     "end_time": "2018-02-18T14:22:41.263262Z",
     "start_time": "2018-02-18T14:22:41.172045Z"
    },
    "collapsed": true
   },
   "outputs": [],
   "source": [
    "with open(\"last_4_comp_data.pkl\", 'rb') as picklefile: \n",
    "    df_comp = pickle.load(picklefile)"
   ]
  },
  {
   "cell_type": "code",
   "execution_count": 39,
   "metadata": {
    "ExecuteTime": {
     "end_time": "2018-02-18T14:22:41.429283Z",
     "start_time": "2018-02-18T14:22:41.265342Z"
    },
    "collapsed": true
   },
   "outputs": [],
   "source": [
    "df_bait = df_bait.merge(df_comp, on=['BLOCK','INSPECTION_YEAR_Q'])"
   ]
  },
  {
   "cell_type": "code",
   "execution_count": 40,
   "metadata": {
    "ExecuteTime": {
     "end_time": "2018-02-18T14:22:41.816394Z",
     "start_time": "2018-02-18T14:22:41.432894Z"
    },
    "collapsed": true
   },
   "outputs": [],
   "source": [
    "df_f = df_f.merge(df_bait, on=['BLOCK','INSPECTION_YEAR_Q'])"
   ]
  },
  {
   "cell_type": "markdown",
   "metadata": {},
   "source": [
    "* Quick Data Viz Post Binning"
   ]
  },
  {
   "cell_type": "code",
   "execution_count": 41,
   "metadata": {
    "ExecuteTime": {
     "end_time": "2018-02-18T14:33:10.557994Z",
     "start_time": "2018-02-18T14:33:09.065648Z"
    }
   },
   "outputs": [
    {
     "data": {
      "image/png": "[encoded data removed]",
      "text/plain": [
       "<matplotlib.figure.Figure at 0x1168a2828>"
      ]
     },
     "metadata": {},
     "output_type": "display_data"
    }
   ],
   "source": [
    "df_g = df_f.groupby('BLOCK', as_index=False).INSPECTION_YEAR_Q.count()\n",
    "#plt.figure(figsize = (15,10))\n",
    "plt.hist(df_g.INSPECTION_YEAR_Q, bins=28)\n",
    "plt.xlabel('Number of Quarters Inspected', fontsize=25)\n",
    "plt.ylabel('Count', fontsize = 25)\n",
    "plt.xticks(fontsize = 15)\n",
    "plt.yticks(fontsize=15)\n",
    "plt.xlim([1,28])\n",
    "plt.title('Histogram of Quarters Inspected for Each Block', fontsize = 30);"
   ]
  },
  {
   "cell_type": "markdown",
   "metadata": {},
   "source": [
    "* Break up by year & quarter to be used as features"
   ]
  },
  {
   "cell_type": "code",
   "execution_count": 42,
   "metadata": {
    "ExecuteTime": {
     "end_time": "2018-02-18T14:33:21.703025Z",
     "start_time": "2018-02-18T14:33:15.931490Z"
    },
    "collapsed": true
   },
   "outputs": [],
   "source": [
    "df_f['year'] = df_f.apply(lambda x: int(x['INSPECTION_YEAR_Q'][:4]), axis=1)\n",
    "df_f['quarter'] = df_f.apply(lambda x: x['INSPECTION_YEAR_Q'][-2:], axis=1)\n",
    "\n",
    "#del df_f['INSPECTION_YEAR_Q']\n",
    "del df_f['BLOCK']\n",
    "del df_f['Block']\n"
   ]
  },
  {
   "cell_type": "code",
   "execution_count": 43,
   "metadata": {
    "ExecuteTime": {
     "end_time": "2018-02-18T14:33:21.848325Z",
     "start_time": "2018-02-18T14:33:21.705921Z"
    },
    "collapsed": true
   },
   "outputs": [],
   "source": [
    "dummies = ['quarter']\n",
    "\n",
    "df_f = pd.get_dummies(df_f, columns = dummies, drop_first=True)"
   ]
  },
  {
   "cell_type": "code",
   "execution_count": 44,
   "metadata": {
    "ExecuteTime": {
     "end_time": "2018-02-18T14:33:22.628946Z",
     "start_time": "2018-02-18T14:33:21.852191Z"
    },
    "collapsed": true
   },
   "outputs": [],
   "source": [
    "#pickle it so we dont have to keep doing that!\n",
    "with open('final_data.pkl', 'wb') as picklefile:\n",
    "    pickle.dump(df_f, picklefile)"
   ]
  },
  {
   "cell_type": "code",
   "execution_count": 45,
   "metadata": {
    "ExecuteTime": {
     "end_time": "2018-02-18T14:33:22.758753Z",
     "start_time": "2018-02-18T14:33:22.632804Z"
    },
    "collapsed": true
   },
   "outputs": [],
   "source": [
    "with open(\"final_data.pkl\", 'rb') as picklefile: \n",
    "    df_f = pickle.load(picklefile)"
   ]
  },
  {
   "cell_type": "markdown",
   "metadata": {},
   "source": [
    "### Train test split on last 2 years of data"
   ]
  },
  {
   "cell_type": "code",
   "execution_count": 46,
   "metadata": {
    "ExecuteTime": {
     "end_time": "2018-02-18T14:33:38.610686Z",
     "start_time": "2018-02-18T14:33:38.275221Z"
    },
    "collapsed": true
   },
   "outputs": [],
   "source": [
    "#TTS\n",
    "X_train = df_f[df_f['INSPECTION_YEAR_Q'] < '2016 Q1'].iloc[:,2:]\n",
    "X_test = df_f[df_f['INSPECTION_YEAR_Q'] >= '2016 Q1'].iloc[:,2:]\n",
    "y_train = df_f[df_f['INSPECTION_YEAR_Q'] < '2016 Q1'].iloc[:,1]\n",
    "y_test = df_f[df_f['INSPECTION_YEAR_Q'] >= '2016 Q1'].iloc[:,1]"
   ]
  },
  {
   "cell_type": "code",
   "execution_count": 47,
   "metadata": {
    "ExecuteTime": {
     "end_time": "2018-02-18T14:33:39.630297Z",
     "start_time": "2018-02-18T14:33:39.385974Z"
    },
    "collapsed": true
   },
   "outputs": [],
   "source": [
    "from sklearn.metrics import precision_score\n",
    "from sklearn.metrics import recall_score\n",
    "from sklearn.metrics import accuracy_score\n",
    "from sklearn.metrics import f1_score"
   ]
  },
  {
   "cell_type": "markdown",
   "metadata": {},
   "source": [
    "### Modeling!\n",
    "* Random Forest\n",
    "* Random Forest Grid Search (ehhhh)\n",
    "* Logistic Regression\n",
    "* Gaussian NB\n",
    "* Bernoulli NB (ehhhh)"
   ]
  },
  {
   "cell_type": "code",
   "execution_count": 48,
   "metadata": {
    "ExecuteTime": {
     "end_time": "2018-02-18T14:33:54.236522Z",
     "start_time": "2018-02-18T14:33:40.828385Z"
    }
   },
   "outputs": [
    {
     "name": "stdout",
     "output_type": "stream",
     "text": [
      "Train Accuracy: 0.858157788602\n",
      "Accuracy: 0.706968158745\n",
      "Precision: 0.714653271257\n",
      "Recall: 0.733802994087\n",
      "F1: 0.724101545528\n"
     ]
    }
   ],
   "source": [
    "from sklearn.ensemble import RandomForestClassifier\n",
    "\n",
    "clf = RandomForestClassifier(max_depth =32, max_features='auto', min_samples_split=32, n_estimators=50)\n",
    "clf.fit(X_train, y_train)\n",
    "clf.score(X_test,y_test)\n",
    "#max_depth =32, max_features='auto', min_samples_split=32, n_estimators=50\n",
    "\n",
    "print('Train Accuracy: ' + str(accuracy_score(y_train,clf.predict(X_train))))\n",
    "print('Accuracy: ' + str(accuracy_score(y_test,clf.predict(X_test))))\n",
    "print('Precision: ' + str(precision_score(y_test,clf.predict(X_test), pos_label = 'Active Rat Signs')))\n",
    "print('Recall: ' + str(recall_score(y_test,clf.predict(X_test), pos_label = 'Active Rat Signs')))\n",
    "print('F1: ' + str(f1_score(y_test,clf.predict(X_test), pos_label = 'Active Rat Signs')))"
   ]
  },
  {
   "cell_type": "code",
   "execution_count": 49,
   "metadata": {
    "ExecuteTime": {
     "end_time": "2018-02-18T14:34:00.610946Z",
     "start_time": "2018-02-18T14:34:00.181326Z"
    }
   },
   "outputs": [
    {
     "name": "stdout",
     "output_type": "stream",
     "text": [
      "True Positives: 5833\n",
      "True Negatives: 4891\n",
      "False Positives: 2329\n",
      "False Negatives: 2116\n"
     ]
    }
   ],
   "source": [
    "from sklearn.metrics import confusion_matrix\n",
    "tp, fn, fp, tn = confusion_matrix(y_test,clf.predict(X_test)).ravel()\n",
    "print('True Positives: ' + str(tp))\n",
    "print('True Negatives: ' + str(tn))\n",
    "print('False Positives: ' + str(fp))\n",
    "print('False Negatives: ' + str(fn))"
   ]
  },
  {
   "cell_type": "code",
   "execution_count": 50,
   "metadata": {
    "ExecuteTime": {
     "end_time": "2018-02-18T14:34:01.296317Z",
     "start_time": "2018-02-18T14:34:01.260013Z"
    },
    "run_control": {
     "marked": false
    }
   },
   "outputs": [
    {
     "data": {
      "text/html": [
       "<div>\n",
       "<style scoped>\n",
       "    .dataframe tbody tr th:only-of-type {\n",
       "        vertical-align: middle;\n",
       "    }\n",
       "\n",
       "    .dataframe tbody tr th {\n",
       "        vertical-align: top;\n",
       "    }\n",
       "\n",
       "    .dataframe thead th {\n",
       "        text-align: right;\n",
       "    }\n",
       "</style>\n",
       "<table border=\"1\" class=\"dataframe\">\n",
       "  <thead>\n",
       "    <tr style=\"text-align: right;\">\n",
       "      <th></th>\n",
       "      <th>feature</th>\n",
       "      <th>importance</th>\n",
       "    </tr>\n",
       "  </thead>\n",
       "  <tbody>\n",
       "    <tr>\n",
       "      <th>1</th>\n",
       "      <td>last_4_rats</td>\n",
       "      <td>0.060</td>\n",
       "    </tr>\n",
       "    <tr>\n",
       "      <th>167</th>\n",
       "      <td>last_4_c_tot</td>\n",
       "      <td>0.052</td>\n",
       "    </tr>\n",
       "    <tr>\n",
       "      <th>161</th>\n",
       "      <td>last_4_bait</td>\n",
       "      <td>0.041</td>\n",
       "    </tr>\n",
       "    <tr>\n",
       "      <th>36</th>\n",
       "      <td>XCoord</td>\n",
       "      <td>0.032</td>\n",
       "    </tr>\n",
       "    <tr>\n",
       "      <th>53</th>\n",
       "      <td>LotArea_per</td>\n",
       "      <td>0.028</td>\n",
       "    </tr>\n",
       "  </tbody>\n",
       "</table>\n",
       "</div>"
      ],
      "text/plain": [
       "          feature  importance\n",
       "1     last_4_rats       0.060\n",
       "167  last_4_c_tot       0.052\n",
       "161   last_4_bait       0.041\n",
       "36         XCoord       0.032\n",
       "53    LotArea_per       0.028"
      ]
     },
     "execution_count": 50,
     "metadata": {},
     "output_type": "execute_result"
    }
   ],
   "source": [
    "d = {'feature': X_train.columns, 'importance': clf.feature_importances_}\n",
    "df_imp = pd.DataFrame(data=d)\n",
    "df_imp.sort_values('importance', ascending=False).head()"
   ]
  },
  {
   "cell_type": "code",
   "execution_count": null,
   "metadata": {
    "ExecuteTime": {
     "end_time": "2018-02-12T17:54:01.281172Z",
     "start_time": "2018-02-12T17:46:33.444977Z"
    },
    "collapsed": true,
    "run_control": {
     "marked": false
    }
   },
   "outputs": [],
   "source": [
    "from sklearn.model_selection import GridSearchCV\n",
    "from sklearn.model_selection import ShuffleSplit\n",
    "\n",
    "estimator = RandomForestClassifier()\n",
    "param_grid = { \n",
    "        \"n_estimators\"      : [10,20,30,50,75,100,200,300],\n",
    "        \"max_features\"      : [\"auto\", \"log2\"],\n",
    "        \"max_depth\"         : [2,4,8,16,32,64,128],\n",
    "        \"min_samples_split\" : [2,4,8,16,32,64,128]\n",
    "        }\n",
    "\n",
    "grid = GridSearchCV(estimator, param_grid, n_jobs=-1, cv=5)\n",
    "\n",
    "grid.fit(X_train, y_train)\n",
    "\n",
    "print(grid.best_score_ , grid.best_params_)"
   ]
  },
  {
   "cell_type": "code",
   "execution_count": 51,
   "metadata": {
    "ExecuteTime": {
     "end_time": "2018-02-18T14:34:07.580000Z",
     "start_time": "2018-02-18T14:34:07.260111Z"
    },
    "run_control": {
     "marked": false
    }
   },
   "outputs": [
    {
     "name": "stderr",
     "output_type": "stream",
     "text": [
      "/Users/bgentry/anaconda/lib/python3.6/site-packages/seaborn/categorical.py:1428: FutureWarning: remove_na is deprecated and is a private function. Do not use.\n",
      "  stat_data = remove_na(group_data)\n"
     ]
    },
    {
     "data": {
      "image/png": "[encoded data removed]",
      "text/plain": [
       "<matplotlib.figure.Figure at 0x141945f60>"
      ]
     },
     "metadata": {},
     "output_type": "display_data"
    }
   ],
   "source": [
    "df_plot = df_f.groupby('RESULT', as_index=False)['AssessTot'].count()\n",
    "#plt.figure(figsize=(15,10))\n",
    "sns.barplot(df_plot.RESULT, df_plot.AssessTot)\n",
    "plt.ylabel('Count', fontsize = 25)\n",
    "plt.xlabel('Result',fontsize=25)\n",
    "plt.title('Quarterly Rat Inspections', fontsize = 25)\n",
    "plt.xticks(fontsize=15)\n",
    "plt.yticks(fontsize=15);"
   ]
  },
  {
   "cell_type": "code",
   "execution_count": 52,
   "metadata": {
    "ExecuteTime": {
     "end_time": "2018-02-18T14:34:11.482570Z",
     "start_time": "2018-02-18T14:34:11.032475Z"
    },
    "collapsed": true
   },
   "outputs": [],
   "source": [
    "from sklearn.preprocessing import StandardScaler\n",
    "scalerX = StandardScaler().fit(X_train)\n",
    "X_train_scale = scalerX.transform(X_train)\n",
    "X_test_scale = scalerX.transform(X_test)"
   ]
  },
  {
   "cell_type": "code",
   "execution_count": 53,
   "metadata": {
    "ExecuteTime": {
     "end_time": "2018-02-18T14:34:16.003470Z",
     "start_time": "2018-02-18T14:34:12.429714Z"
    }
   },
   "outputs": [
    {
     "name": "stdout",
     "output_type": "stream",
     "text": [
      "Train Accuracy: 0.626376694692\n",
      "Accuracy: 0.6262113521\n",
      "Precision: 0.613824792728\n",
      "Recall: 0.773053214241\n",
      "F1: 0.68429844098\n"
     ]
    }
   ],
   "source": [
    "from sklearn.linear_model import LogisticRegression\n",
    "\n",
    "lr = LogisticRegression(tol=.0001)\n",
    "lr.fit(X_train, y_train)\n",
    "print('Train Accuracy: ' + str(accuracy_score(y_train,lr.predict(X_train_scale))))\n",
    "print('Accuracy: ' + str(accuracy_score(y_test,lr.predict(X_test_scale))))\n",
    "print('Precision: ' + str(precision_score(y_test,lr.predict(X_test_scale), pos_label = 'Active Rat Signs')))\n",
    "print('Recall: ' + str(recall_score(y_test,lr.predict(X_test_scale), pos_label = 'Active Rat Signs')))\n",
    "print('F1: ' + str(f1_score(y_test,lr.predict(X_test_scale), pos_label = 'Active Rat Signs')))"
   ]
  },
  {
   "cell_type": "code",
   "execution_count": 54,
   "metadata": {
    "ExecuteTime": {
     "end_time": "2018-02-18T14:34:23.225290Z",
     "start_time": "2018-02-18T14:34:23.122790Z"
    }
   },
   "outputs": [
    {
     "name": "stdout",
     "output_type": "stream",
     "text": [
      "True Positives: 3354\n",
      "True Negatives: 6145\n",
      "False Positives: 1804\n",
      "False Negatives: 3866\n"
     ]
    }
   ],
   "source": [
    "tn, fp, fn, tp = confusion_matrix(y_test,lr.predict(X_test_scale)).ravel()\n",
    "print('True Positives: ' + str(tp))\n",
    "print('True Negatives: ' + str(tn))\n",
    "print('False Positives: ' + str(fp))\n",
    "print('False Negatives: ' + str(fn))"
   ]
  },
  {
   "cell_type": "code",
   "execution_count": 55,
   "metadata": {
    "ExecuteTime": {
     "end_time": "2018-02-18T14:34:25.882864Z",
     "start_time": "2018-02-18T14:34:24.645889Z"
    }
   },
   "outputs": [
    {
     "name": "stdout",
     "output_type": "stream",
     "text": [
      "Train Accuracy: 0.636738746006\n",
      "Accuracy: 0.658316302986\n",
      "Precision: 0.620680628272\n",
      "Recall: 0.894829538307\n",
      "F1: 0.732958936576\n"
     ]
    }
   ],
   "source": [
    "from sklearn.naive_bayes import GaussianNB\n",
    "nb = GaussianNB()\n",
    "nb.fit(X_train_scale, y_train)\n",
    "print('Train Accuracy: ' + str(accuracy_score(y_train,nb.predict(X_train_scale))))\n",
    "print('Accuracy: ' + str(accuracy_score(y_test,nb.predict(X_test_scale))))\n",
    "print('Precision: ' + str(precision_score(y_test,nb.predict(X_test_scale), pos_label = 'Active Rat Signs')))\n",
    "print('Recall: ' + str(recall_score(y_test,nb.predict(X_test_scale), pos_label = 'Active Rat Signs')))\n",
    "print('F1: ' + str(f1_score(y_test,nb.predict(X_test_scale), pos_label = 'Active Rat Signs')))"
   ]
  },
  {
   "cell_type": "code",
   "execution_count": 56,
   "metadata": {
    "ExecuteTime": {
     "end_time": "2018-02-18T14:34:26.081290Z",
     "start_time": "2018-02-18T14:34:25.885731Z"
    }
   },
   "outputs": [
    {
     "name": "stdout",
     "output_type": "stream",
     "text": [
      "True Positives: 7113\n",
      "True Negatives: 2873\n",
      "False Positives: 4347\n",
      "False Negatives: 836\n"
     ]
    }
   ],
   "source": [
    "tp, fn, fp, tn = confusion_matrix(y_test,nb.predict(X_test_scale)).ravel()\n",
    "print('True Positives: ' + str(tp))\n",
    "print('True Negatives: ' + str(tn))\n",
    "print('False Positives: ' + str(fp))\n",
    "print('False Negatives: ' + str(fn))"
   ]
  },
  {
   "cell_type": "code",
   "execution_count": 57,
   "metadata": {
    "ExecuteTime": {
     "end_time": "2018-02-18T14:34:28.055586Z",
     "start_time": "2018-02-18T14:34:26.939535Z"
    }
   },
   "outputs": [
    {
     "name": "stdout",
     "output_type": "stream",
     "text": [
      "Train Accuracy: 0.6762324326\n",
      "Accuracy: 0.678686795438\n",
      "Precision: 0.691017517704\n",
      "Recall: 0.699710655428\n",
      "F1: 0.695336917115\n"
     ]
    }
   ],
   "source": [
    "from sklearn.naive_bayes import BernoulliNB\n",
    "mnb = BernoulliNB()\n",
    "mnb.fit(X_train_scale, y_train)\n",
    "print('Train Accuracy: ' + str(accuracy_score(y_train,mnb.predict(X_train_scale))))\n",
    "print('Accuracy: ' + str(accuracy_score(y_test,mnb.predict(X_test_scale))))\n",
    "print('Precision: ' + str(precision_score(y_test,mnb.predict(X_test_scale), pos_label = 'Active Rat Signs')))\n",
    "print('Recall: ' + str(recall_score(y_test,mnb.predict(X_test_scale), pos_label = 'Active Rat Signs')))\n",
    "print('F1: ' + str(f1_score(y_test,mnb.predict(X_test_scale), pos_label = 'Active Rat Signs')))"
   ]
  },
  {
   "cell_type": "markdown",
   "metadata": {},
   "source": [
    "### ROC Curve"
   ]
  },
  {
   "cell_type": "code",
   "execution_count": 58,
   "metadata": {
    "ExecuteTime": {
     "end_time": "2018-02-18T14:34:28.744675Z",
     "start_time": "2018-02-18T14:34:28.737584Z"
    },
    "collapsed": true
   },
   "outputs": [],
   "source": [
    "y_test_bin = [0 if i == 'Active Rat Signs' else 1 for i in y_test]"
   ]
  },
  {
   "cell_type": "code",
   "execution_count": 59,
   "metadata": {
    "ExecuteTime": {
     "end_time": "2018-02-18T14:34:30.518562Z",
     "start_time": "2018-02-18T14:34:30.000181Z"
    },
    "collapsed": true
   },
   "outputs": [],
   "source": [
    "predicted_probs_rf = clf.predict_proba(X_test)\n",
    "predicted_probs_nb = nb.predict_proba(X_test_scale)\n",
    "#predicted_probs_mnb = mnb.predict_proba(X_test_scale)\n",
    "predicted_probs_lr = lr.predict_proba(X_test)"
   ]
  },
  {
   "cell_type": "code",
   "execution_count": 60,
   "metadata": {
    "ExecuteTime": {
     "end_time": "2018-02-18T14:34:31.710792Z",
     "start_time": "2018-02-18T14:34:30.916336Z"
    },
    "scrolled": true
   },
   "outputs": [
    {
     "data": {
      "image/png": "[encoded data removed]",
      "text/plain": [
       "<matplotlib.figure.Figure at 0x1162d8898>"
      ]
     },
     "metadata": {},
     "output_type": "display_data"
    }
   ],
   "source": [
    "from sklearn.metrics import roc_curve\n",
    "from sklearn.metrics import auc\n",
    "\n",
    "plt.figure(figsize=(15,10))\n",
    "fpr, tpr, threshold = roc_curve(y_test_bin, predicted_probs_nb[:,1])\n",
    "roc_auc = auc(fpr, tpr)\n",
    "fpr_2, tpr_2, threshold_2 = roc_curve(y_test_bin, predicted_probs_rf[:,1])\n",
    "roc_auc_2 = auc(fpr_2, tpr_2)\n",
    "#fpr_3, tpr_3, threshold_3 = roc_curve(y_test_bin, predicted_probs_mnb[:,1])\n",
    "#roc_auc_3 = auc(fpr_3, tpr_3)\n",
    "fpr_4, tpr_4, threshold_4 = roc_curve(y_test_bin, predicted_probs_lr[:,1])\n",
    "roc_auc_4 = auc(fpr_4, tpr_4)\n",
    "plt.title('ROC Curve', fontsize=30)\n",
    "plt.plot(fpr, tpr, 'b', label = 'Naive Bayes AUC = %0.2f' % roc_auc)\n",
    "plt.plot(fpr_2, tpr_2, label = 'Random Forest AUC = %0.2f' % roc_auc_2, color='green')\n",
    "#plt.plot(fpr_3, tpr_3, label = 'GNB AUC = %0.2f' % roc_auc_3, color='purple')\n",
    "plt.plot(fpr_4, tpr_4, label = 'Logit AUC = %0.2f' % roc_auc_4, color='purple')\n",
    "plt.legend(loc = 'lower right', fontsize=25)\n",
    "plt.plot([0, 1], [0, 1],'r--')\n",
    "plt.xlim([0, 1])\n",
    "plt.ylim([0, 1])\n",
    "plt.ylabel('True Positive Rate', fontsize=25)\n",
    "plt.xlabel('False Positive Rate', fontsize=25)\n",
    "plt.xticks(fontsize = 15)\n",
    "plt.yticks(fontsize = 15)\n",
    "\n",
    "plt.show()\n"
   ]
  }
 ],
 "metadata": {
  "kernelspec": {
   "display_name": "Python 3",
   "language": "python",
   "name": "python3"
  },
  "language_info": {
   "codemirror_mode": {
    "name": "ipython",
    "version": 3
   },
   "file_extension": ".py",
   "mimetype": "text/x-python",
   "name": "python",
   "nbconvert_exporter": "python",
   "pygments_lexer": "ipython3",
   "version": "3.6.4"
  }
 },
 "nbformat": 4,
 "nbformat_minor": 2
}
