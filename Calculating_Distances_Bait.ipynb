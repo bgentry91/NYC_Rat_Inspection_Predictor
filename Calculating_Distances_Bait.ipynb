{
 "cells": [
  {
   "cell_type": "code",
   "execution_count": 2,
   "metadata": {
    "ExecuteTime": {
     "end_time": "2018-02-17T22:42:01.472995Z",
     "start_time": "2018-02-17T22:42:01.458496Z"
    },
    "collapsed": true,
    "run_control": {
     "marked": false
    }
   },
   "outputs": [],
   "source": [
    "import pandas as pd\n",
    "import pickle"
   ]
  },
  {
   "cell_type": "markdown",
   "metadata": {},
   "source": [
    "### Same logic as Calculating_Distances.ipynb\n",
    "* Calculating neighbor info for bating operations performed by NYC\n",
    "* See associated markdown for info"
   ]
  },
  {
   "cell_type": "code",
   "execution_count": 3,
   "metadata": {
    "ExecuteTime": {
     "end_time": "2018-02-17T22:42:02.553282Z",
     "start_time": "2018-02-17T22:42:01.949902Z"
    },
    "collapsed": true,
    "run_control": {
     "marked": false
    }
   },
   "outputs": [],
   "source": [
    "with open(\"df_address.pkl\", 'rb') as picklefile: \n",
    "    df4 = pickle.load(picklefile)"
   ]
  },
  {
   "cell_type": "code",
   "execution_count": 4,
   "metadata": {
    "ExecuteTime": {
     "end_time": "2018-02-17T22:42:02.579172Z",
     "start_time": "2018-02-17T22:42:02.556840Z"
    },
    "collapsed": true
   },
   "outputs": [],
   "source": [
    "df = df4[['Block','XCoord','YCoord']].copy()\n",
    "df['x'] = 1"
   ]
  },
  {
   "cell_type": "code",
   "execution_count": 5,
   "metadata": {
    "ExecuteTime": {
     "end_time": "2018-02-17T22:42:02.698475Z",
     "start_time": "2018-02-17T22:42:02.581581Z"
    },
    "collapsed": true
   },
   "outputs": [],
   "source": [
    "df = df.groupby(['Block','XCoord','YCoord'], as_index=False).x.count()\n",
    "del df['x']"
   ]
  },
  {
   "cell_type": "code",
   "execution_count": 6,
   "metadata": {
    "ExecuteTime": {
     "end_time": "2018-02-17T22:42:02.718834Z",
     "start_time": "2018-02-17T22:42:02.701415Z"
    },
    "collapsed": true
   },
   "outputs": [],
   "source": [
    "df = df.groupby('Block')['XCoord','YCoord'].mean()"
   ]
  },
  {
   "cell_type": "code",
   "execution_count": 7,
   "metadata": {
    "ExecuteTime": {
     "end_time": "2018-02-17T22:42:03.954685Z",
     "start_time": "2018-02-17T22:42:02.771294Z"
    },
    "collapsed": true
   },
   "outputs": [],
   "source": [
    "from scipy.spatial.distance import pdist, squareform\n",
    "\n",
    "distances = pdist(df.values, metric='euclidean')\n",
    "dist_matrix = squareform(distances)"
   ]
  },
  {
   "cell_type": "code",
   "execution_count": 8,
   "metadata": {
    "ExecuteTime": {
     "end_time": "2018-02-17T22:42:03.976365Z",
     "start_time": "2018-02-17T22:42:03.958609Z"
    },
    "collapsed": true
   },
   "outputs": [],
   "source": [
    "indicies = ['block' + str(i) for i in df.index.tolist()]"
   ]
  },
  {
   "cell_type": "code",
   "execution_count": 9,
   "metadata": {
    "ExecuteTime": {
     "end_time": "2018-02-17T22:42:03.993796Z",
     "start_time": "2018-02-17T22:42:03.982944Z"
    },
    "collapsed": true
   },
   "outputs": [],
   "source": [
    "dist_matrix = pd.DataFrame(dist_matrix, columns = indicies, index = df.index)"
   ]
  },
  {
   "cell_type": "code",
   "execution_count": 10,
   "metadata": {
    "ExecuteTime": {
     "end_time": "2018-02-17T22:42:28.999517Z",
     "start_time": "2018-02-17T22:42:03.998551Z"
    },
    "collapsed": true
   },
   "outputs": [],
   "source": [
    "smallest = 6\n",
    "\n",
    "m_len = len(dist_matrix.columns)\n",
    "for col in dist_matrix.columns[:m_len]:\n",
    "    l = dist_matrix[col].nsmallest(smallest).index\n",
    "    for i in range(len(l)):\n",
    "        col_2c = m_len + i\n",
    "        row_2c = int(col[5:])\n",
    "        dist_matrix.loc[row_2c, col_2c] = int(l[i])\n",
    "        \n",
    "k = 0\n",
    "for j in range(m_len, m_len + smallest):\n",
    "    k += 1\n",
    "    dist_matrix.rename(columns={j: 'closest_' + str(k-1)}, inplace=True)"
   ]
  },
  {
   "cell_type": "code",
   "execution_count": 11,
   "metadata": {
    "ExecuteTime": {
     "end_time": "2018-02-17T22:42:29.023823Z",
     "start_time": "2018-02-17T22:42:29.008891Z"
    },
    "collapsed": true
   },
   "outputs": [],
   "source": [
    "df_closest = dist_matrix.iloc[:,-smallest:].reset_index()"
   ]
  },
  {
   "cell_type": "code",
   "execution_count": 12,
   "metadata": {
    "ExecuteTime": {
     "end_time": "2018-02-17T22:42:29.041055Z",
     "start_time": "2018-02-17T22:42:29.028063Z"
    },
    "collapsed": true
   },
   "outputs": [],
   "source": [
    "with open('df_closest.pkl', 'wb') as picklefile:\n",
    "    pickle.dump(df_closest, picklefile)"
   ]
  },
  {
   "cell_type": "code",
   "execution_count": 13,
   "metadata": {
    "ExecuteTime": {
     "end_time": "2018-02-17T22:42:29.065939Z",
     "start_time": "2018-02-17T22:42:29.044439Z"
    },
    "collapsed": true
   },
   "outputs": [],
   "source": [
    "with open(\"df_bait4.pkl\", 'rb') as picklefile: \n",
    "    df_l4 = pickle.load(picklefile)"
   ]
  },
  {
   "cell_type": "code",
   "execution_count": 14,
   "metadata": {
    "ExecuteTime": {
     "end_time": "2018-02-17T22:42:29.093251Z",
     "start_time": "2018-02-17T22:42:29.068913Z"
    },
    "collapsed": true
   },
   "outputs": [],
   "source": [
    "with open(\"df_all.pkl\", 'rb') as picklefile: \n",
    "    df_all = pickle.load(picklefile)"
   ]
  },
  {
   "cell_type": "code",
   "execution_count": 15,
   "metadata": {
    "ExecuteTime": {
     "end_time": "2018-02-17T22:42:29.215289Z",
     "start_time": "2018-02-17T22:42:29.096335Z"
    },
    "collapsed": true
   },
   "outputs": [],
   "source": [
    "df_l4 = df_all.merge(df_l4, how = 'left', on=['INSPECTION_YEAR_Q','BLOCK'])\n",
    "df_l4.fillna(0, inplace=True)"
   ]
  },
  {
   "cell_type": "code",
   "execution_count": 16,
   "metadata": {
    "ExecuteTime": {
     "end_time": "2018-02-17T22:42:29.231167Z",
     "start_time": "2018-02-17T22:42:29.219216Z"
    },
    "collapsed": true
   },
   "outputs": [],
   "source": [
    "for i in range(1,smallest):\n",
    "    df_closest['closest_' + str(i)] = df_closest['closest_' + str(i)].astype(int)"
   ]
  },
  {
   "cell_type": "code",
   "execution_count": 17,
   "metadata": {
    "ExecuteTime": {
     "end_time": "2018-02-17T22:42:29.307739Z",
     "start_time": "2018-02-17T22:42:29.234263Z"
    },
    "collapsed": true
   },
   "outputs": [],
   "source": [
    "df9 = df_l4.merge(df_closest, how = 'right', left_on='BLOCK', right_on='Block')\n",
    "del df9['Block']"
   ]
  },
  {
   "cell_type": "code",
   "execution_count": 18,
   "metadata": {
    "ExecuteTime": {
     "end_time": "2018-02-17T22:42:30.293627Z",
     "start_time": "2018-02-17T22:42:29.310586Z"
    },
    "collapsed": true
   },
   "outputs": [],
   "source": [
    "for i in range(1,smallest):\n",
    "    df9 = df9.merge(df_l4, left_on=['INSPECTION_YEAR_Q','closest_' + str(i)], right_on=['INSPECTION_YEAR_Q','BLOCK'])\n",
    "    del df9['BLOCK_y']\n",
    "    df9.rename(columns={'last_4_bait_y': 'c' + str(i) + '_b4i','BLOCK_x': 'BLOCK',\n",
    "                       'last_4_bait_x': 'last_4_bait'}, inplace=True)"
   ]
  },
  {
   "cell_type": "code",
   "execution_count": 19,
   "metadata": {
    "ExecuteTime": {
     "end_time": "2018-02-17T22:42:30.311516Z",
     "start_time": "2018-02-17T22:42:30.297556Z"
    },
    "collapsed": true
   },
   "outputs": [],
   "source": [
    "col_to_keep = ['INSPECTION_YEAR_Q', 'BLOCK', 'last_4_bait',\n",
    "               'c1_b4i', 'c2_b4i', 'c3_b4i', 'c4_b4i', 'c5_b4i']\n",
    "df9 = df9[col_to_keep]"
   ]
  },
  {
   "cell_type": "code",
   "execution_count": 20,
   "metadata": {
    "ExecuteTime": {
     "end_time": "2018-02-17T22:42:30.415225Z",
     "start_time": "2018-02-17T22:42:30.314528Z"
    },
    "collapsed": true
   },
   "outputs": [],
   "source": [
    "with open('last_4_bait_data.pkl', 'wb') as picklefile:\n",
    "    pickle.dump(df9, picklefile)"
   ]
  }
 ],
 "metadata": {
  "kernelspec": {
   "display_name": "Python 3",
   "language": "python",
   "name": "python3"
  },
  "language_info": {
   "codemirror_mode": {
    "name": "ipython",
    "version": 3
   },
   "file_extension": ".py",
   "mimetype": "text/x-python",
   "name": "python",
   "nbconvert_exporter": "python",
   "pygments_lexer": "ipython3",
   "version": "3.6.4"
  }
 },
 "nbformat": 4,
 "nbformat_minor": 2
}
